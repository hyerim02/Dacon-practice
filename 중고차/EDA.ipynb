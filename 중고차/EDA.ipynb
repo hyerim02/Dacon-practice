{
 "cells": [
  {
   "cell_type": "markdown",
   "metadata": {},
   "source": [
    "# 중고차 가격 예측 경진대회 EDA  \n",
    "\n",
    "중고차 시장 데이터를 이용하여 중고차 가격 예측을 예측하는 대회  \n",
    "대회를 시작하기 앞서 어떤 데이터가 주어졌고 어떤 방식으로 활용할 수 있을지 데이터를 분석하고 시각화하며 인사이트를 얻어내는 작업이 필요"
   ]
  },
  {
   "cell_type": "markdown",
   "metadata": {},
   "source": [
    "## 평가"
   ]
  },
  {
   "cell_type": "code",
   "execution_count": 66,
   "metadata": {
    "ExecuteTime": {
     "end_time": "2022-06-12T07:17:19.392885Z",
     "start_time": "2022-06-12T07:17:19.377674Z"
    }
   },
   "outputs": [],
   "source": [
    "import numpy as np\n",
    "\n",
    "def NMAE(true, pred):\n",
    "    mae = np.mean(np.abs(true-pred))\n",
    "    score = mae / np.mean(np.abs(true))\n",
    "    return score"
   ]
  },
  {
   "cell_type": "markdown",
   "metadata": {},
   "source": [
    "`NMAE (Normalized Mean Absolute Error)`는 척도가 다른 데이터 세트의 MAE에 관한 비교를 용이하게 하기 위해서 정규화를 적용한 것  \n",
    "정규화의 수단으로는 측정된 데이터의 평균을 사용  \n",
    "즉, NMAE는 정규화된 MAE(평균 절대 오차)  \n",
    "https://dacon.io/forum/405791?dtype=recent"
   ]
  },
  {
   "cell_type": "markdown",
   "metadata": {},
   "source": [
    "## 변수\n",
    "- id : 샘플 아이디  \n",
    "- title : 제조사 모델명  \n",
    "- odometer : 주행 거리  \n",
    "- location : 판매처(나이지리아 도시)  \n",
    "- isimported : 현지 사용 여부  \n",
    "- engine : 엔진 종류  \n",
    "- transmission : 트랜스미션 종류  \n",
    "- fuel : 연료 종류  \n",
    "- paint : 페인트 색상  \n",
    "- year : 제조년도  \n",
    "- target : 자동차 가격"
   ]
  },
  {
   "cell_type": "markdown",
   "metadata": {},
   "source": [
    "## 데이터 불러오기 전처리"
   ]
  },
  {
   "cell_type": "markdown",
   "metadata": {},
   "source": [
    "### 데이터 불러오기"
   ]
  },
  {
   "cell_type": "code",
   "execution_count": 67,
   "metadata": {
    "ExecuteTime": {
     "end_time": "2022-06-12T07:17:19.423125Z",
     "start_time": "2022-06-12T07:17:19.395416Z"
    }
   },
   "outputs": [
    {
     "data": {
      "text/html": [
       "<div>\n",
       "<style scoped>\n",
       "    .dataframe tbody tr th:only-of-type {\n",
       "        vertical-align: middle;\n",
       "    }\n",
       "\n",
       "    .dataframe tbody tr th {\n",
       "        vertical-align: top;\n",
       "    }\n",
       "\n",
       "    .dataframe thead th {\n",
       "        text-align: right;\n",
       "    }\n",
       "</style>\n",
       "<table border=\"1\" class=\"dataframe\">\n",
       "  <thead>\n",
       "    <tr style=\"text-align: right;\">\n",
       "      <th></th>\n",
       "      <th>id</th>\n",
       "      <th>title</th>\n",
       "      <th>odometer</th>\n",
       "      <th>location</th>\n",
       "      <th>isimported</th>\n",
       "      <th>engine</th>\n",
       "      <th>transmission</th>\n",
       "      <th>fuel</th>\n",
       "      <th>paint</th>\n",
       "      <th>year</th>\n",
       "      <th>target</th>\n",
       "    </tr>\n",
       "  </thead>\n",
       "  <tbody>\n",
       "    <tr>\n",
       "      <th>0</th>\n",
       "      <td>0</td>\n",
       "      <td>Toyota RAV 4</td>\n",
       "      <td>18277</td>\n",
       "      <td>Lagos</td>\n",
       "      <td>Foreign Used</td>\n",
       "      <td>4-cylinder(I4)</td>\n",
       "      <td>automatic</td>\n",
       "      <td>petrol</td>\n",
       "      <td>Red</td>\n",
       "      <td>2016</td>\n",
       "      <td>13665000</td>\n",
       "    </tr>\n",
       "    <tr>\n",
       "      <th>1</th>\n",
       "      <td>1</td>\n",
       "      <td>Toyota Land Cruiser</td>\n",
       "      <td>10</td>\n",
       "      <td>Lagos</td>\n",
       "      <td>New</td>\n",
       "      <td>4-cylinder(I4)</td>\n",
       "      <td>automatic</td>\n",
       "      <td>petrol</td>\n",
       "      <td>Black</td>\n",
       "      <td>2019</td>\n",
       "      <td>33015000</td>\n",
       "    </tr>\n",
       "    <tr>\n",
       "      <th>2</th>\n",
       "      <td>2</td>\n",
       "      <td>Land Rover Range Rover Evoque</td>\n",
       "      <td>83091</td>\n",
       "      <td>Lagos</td>\n",
       "      <td>Foreign Used</td>\n",
       "      <td>6-cylinder(V6)</td>\n",
       "      <td>automatic</td>\n",
       "      <td>petrol</td>\n",
       "      <td>Red</td>\n",
       "      <td>2012</td>\n",
       "      <td>9915000</td>\n",
       "    </tr>\n",
       "    <tr>\n",
       "      <th>3</th>\n",
       "      <td>3</td>\n",
       "      <td>Lexus ES 350</td>\n",
       "      <td>91524</td>\n",
       "      <td>Lagos</td>\n",
       "      <td>Foreign Used</td>\n",
       "      <td>4-cylinder(I4)</td>\n",
       "      <td>automatic</td>\n",
       "      <td>petrol</td>\n",
       "      <td>Gray</td>\n",
       "      <td>2007</td>\n",
       "      <td>3815000</td>\n",
       "    </tr>\n",
       "    <tr>\n",
       "      <th>4</th>\n",
       "      <td>4</td>\n",
       "      <td>Toyota Venza</td>\n",
       "      <td>94177</td>\n",
       "      <td>Lagos</td>\n",
       "      <td>Foreign Used</td>\n",
       "      <td>6-cylinder(V6)</td>\n",
       "      <td>automatic</td>\n",
       "      <td>petrol</td>\n",
       "      <td>Red</td>\n",
       "      <td>2010</td>\n",
       "      <td>7385000</td>\n",
       "    </tr>\n",
       "  </tbody>\n",
       "</table>\n",
       "</div>"
      ],
      "text/plain": [
       "   id                          title  odometer location    isimported  \\\n",
       "0   0                   Toyota RAV 4     18277   Lagos   Foreign Used   \n",
       "1   1            Toyota Land Cruiser        10    Lagos          New    \n",
       "2   2  Land Rover Range Rover Evoque     83091    Lagos  Foreign Used   \n",
       "3   3                   Lexus ES 350     91524    Lagos  Foreign Used   \n",
       "4   4                   Toyota Venza     94177    Lagos  Foreign Used   \n",
       "\n",
       "           engine transmission    fuel  paint  year    target  \n",
       "0  4-cylinder(I4)    automatic  petrol    Red  2016  13665000  \n",
       "1  4-cylinder(I4)    automatic  petrol  Black  2019  33015000  \n",
       "2  6-cylinder(V6)    automatic  petrol    Red  2012   9915000  \n",
       "3  4-cylinder(I4)    automatic  petrol   Gray  2007   3815000  \n",
       "4  6-cylinder(V6)    automatic  petrol    Red  2010   7385000  "
      ]
     },
     "execution_count": 67,
     "metadata": {},
     "output_type": "execute_result"
    }
   ],
   "source": [
    "import pandas as pd \n",
    "import numpy as np \n",
    "import seaborn as sns\n",
    "import matplotlib.pyplot as plt   \n",
    "%matplotlib inline  \n",
    "\n",
    "plt.rcParams['font.family'] = 'Malgun Gothic'\n",
    "\n",
    "train = pd.read_csv('train.csv')\n",
    "test = pd.read_csv('test.csv')\n",
    "\n",
    "train.head()"
   ]
  },
  {
   "cell_type": "code",
   "execution_count": 68,
   "metadata": {
    "ExecuteTime": {
     "end_time": "2022-06-12T07:17:19.453140Z",
     "start_time": "2022-06-12T07:17:19.425770Z"
    }
   },
   "outputs": [],
   "source": [
    "train = pd.read_csv('train.csv', index_col = 'id')\n",
    "test = pd.read_csv('test.csv', index_col = 'id')\n",
    "submission = pd.read_csv('sample_submission.csv', index_col = 'id')"
   ]
  },
  {
   "cell_type": "code",
   "execution_count": 69,
   "metadata": {
    "ExecuteTime": {
     "end_time": "2022-06-12T07:17:19.467987Z",
     "start_time": "2022-06-12T07:17:19.455459Z"
    }
   },
   "outputs": [
    {
     "name": "stdout",
     "output_type": "stream",
     "text": [
      "(1015, 10)\n",
      "(436, 9)\n"
     ]
    }
   ],
   "source": [
    "print(train.shape)\n",
    "print(test.shape)"
   ]
  },
  {
   "cell_type": "code",
   "execution_count": 70,
   "metadata": {
    "ExecuteTime": {
     "end_time": "2022-06-12T07:17:19.482946Z",
     "start_time": "2022-06-12T07:17:19.469017Z"
    }
   },
   "outputs": [
    {
     "data": {
      "text/html": [
       "<div>\n",
       "<style scoped>\n",
       "    .dataframe tbody tr th:only-of-type {\n",
       "        vertical-align: middle;\n",
       "    }\n",
       "\n",
       "    .dataframe tbody tr th {\n",
       "        vertical-align: top;\n",
       "    }\n",
       "\n",
       "    .dataframe thead th {\n",
       "        text-align: right;\n",
       "    }\n",
       "</style>\n",
       "<table border=\"1\" class=\"dataframe\">\n",
       "  <thead>\n",
       "    <tr style=\"text-align: right;\">\n",
       "      <th></th>\n",
       "      <th>title</th>\n",
       "      <th>odometer</th>\n",
       "      <th>location</th>\n",
       "      <th>isimported</th>\n",
       "      <th>engine</th>\n",
       "      <th>transmission</th>\n",
       "      <th>fuel</th>\n",
       "      <th>paint</th>\n",
       "      <th>year</th>\n",
       "      <th>target</th>\n",
       "    </tr>\n",
       "    <tr>\n",
       "      <th>id</th>\n",
       "      <th></th>\n",
       "      <th></th>\n",
       "      <th></th>\n",
       "      <th></th>\n",
       "      <th></th>\n",
       "      <th></th>\n",
       "      <th></th>\n",
       "      <th></th>\n",
       "      <th></th>\n",
       "      <th></th>\n",
       "    </tr>\n",
       "  </thead>\n",
       "  <tbody>\n",
       "    <tr>\n",
       "      <th>0</th>\n",
       "      <td>Toyota RAV 4</td>\n",
       "      <td>18277</td>\n",
       "      <td>Lagos</td>\n",
       "      <td>Foreign Used</td>\n",
       "      <td>4-cylinder(I4)</td>\n",
       "      <td>automatic</td>\n",
       "      <td>petrol</td>\n",
       "      <td>Red</td>\n",
       "      <td>2016</td>\n",
       "      <td>13665000</td>\n",
       "    </tr>\n",
       "    <tr>\n",
       "      <th>1</th>\n",
       "      <td>Toyota Land Cruiser</td>\n",
       "      <td>10</td>\n",
       "      <td>Lagos</td>\n",
       "      <td>New</td>\n",
       "      <td>4-cylinder(I4)</td>\n",
       "      <td>automatic</td>\n",
       "      <td>petrol</td>\n",
       "      <td>Black</td>\n",
       "      <td>2019</td>\n",
       "      <td>33015000</td>\n",
       "    </tr>\n",
       "    <tr>\n",
       "      <th>2</th>\n",
       "      <td>Land Rover Range Rover Evoque</td>\n",
       "      <td>83091</td>\n",
       "      <td>Lagos</td>\n",
       "      <td>Foreign Used</td>\n",
       "      <td>6-cylinder(V6)</td>\n",
       "      <td>automatic</td>\n",
       "      <td>petrol</td>\n",
       "      <td>Red</td>\n",
       "      <td>2012</td>\n",
       "      <td>9915000</td>\n",
       "    </tr>\n",
       "    <tr>\n",
       "      <th>3</th>\n",
       "      <td>Lexus ES 350</td>\n",
       "      <td>91524</td>\n",
       "      <td>Lagos</td>\n",
       "      <td>Foreign Used</td>\n",
       "      <td>4-cylinder(I4)</td>\n",
       "      <td>automatic</td>\n",
       "      <td>petrol</td>\n",
       "      <td>Gray</td>\n",
       "      <td>2007</td>\n",
       "      <td>3815000</td>\n",
       "    </tr>\n",
       "    <tr>\n",
       "      <th>4</th>\n",
       "      <td>Toyota Venza</td>\n",
       "      <td>94177</td>\n",
       "      <td>Lagos</td>\n",
       "      <td>Foreign Used</td>\n",
       "      <td>6-cylinder(V6)</td>\n",
       "      <td>automatic</td>\n",
       "      <td>petrol</td>\n",
       "      <td>Red</td>\n",
       "      <td>2010</td>\n",
       "      <td>7385000</td>\n",
       "    </tr>\n",
       "  </tbody>\n",
       "</table>\n",
       "</div>"
      ],
      "text/plain": [
       "                            title  odometer location    isimported  \\\n",
       "id                                                                   \n",
       "0                    Toyota RAV 4     18277   Lagos   Foreign Used   \n",
       "1             Toyota Land Cruiser        10    Lagos          New    \n",
       "2   Land Rover Range Rover Evoque     83091    Lagos  Foreign Used   \n",
       "3                    Lexus ES 350     91524    Lagos  Foreign Used   \n",
       "4                    Toyota Venza     94177    Lagos  Foreign Used   \n",
       "\n",
       "            engine transmission    fuel  paint  year    target  \n",
       "id                                                              \n",
       "0   4-cylinder(I4)    automatic  petrol    Red  2016  13665000  \n",
       "1   4-cylinder(I4)    automatic  petrol  Black  2019  33015000  \n",
       "2   6-cylinder(V6)    automatic  petrol    Red  2012   9915000  \n",
       "3   4-cylinder(I4)    automatic  petrol   Gray  2007   3815000  \n",
       "4   6-cylinder(V6)    automatic  petrol    Red  2010   7385000  "
      ]
     },
     "execution_count": 70,
     "metadata": {},
     "output_type": "execute_result"
    }
   ],
   "source": [
    "train.head()"
   ]
  },
  {
   "cell_type": "markdown",
   "metadata": {},
   "source": [
    "### 요약표"
   ]
  },
  {
   "cell_type": "code",
   "execution_count": 71,
   "metadata": {
    "ExecuteTime": {
     "end_time": "2022-06-12T07:17:19.498007Z",
     "start_time": "2022-06-12T07:17:19.484943Z"
    }
   },
   "outputs": [],
   "source": [
    "def resumetable(df) :\n",
    "    print(f'데이터셋 형상 : {df.shape}')\n",
    "    summary = pd.DataFrame(df.dtypes, columns = ['데이터 타입'])\n",
    "    summary = summary.reset_index()\n",
    "    summary = summary.rename(columns = {'index' : '피처'})\n",
    "    summary['결측값 수'] = df.isnull().sum().values\n",
    "    summary['고윳값 개수'] = df.nunique().values\n",
    "    summary['1번째 값'] = df.loc[0].values\n",
    "    summary['2번째 값'] = df.loc[1].values\n",
    "    summary['3번째 값'] = df.loc[2].values\n",
    "    \n",
    "    return summary"
   ]
  },
  {
   "cell_type": "code",
   "execution_count": 72,
   "metadata": {
    "ExecuteTime": {
     "end_time": "2022-06-12T07:17:19.527828Z",
     "start_time": "2022-06-12T07:17:19.498904Z"
    }
   },
   "outputs": [
    {
     "name": "stdout",
     "output_type": "stream",
     "text": [
      "데이터셋 형상 : (1015, 10)\n"
     ]
    },
    {
     "data": {
      "text/html": [
       "<div>\n",
       "<style scoped>\n",
       "    .dataframe tbody tr th:only-of-type {\n",
       "        vertical-align: middle;\n",
       "    }\n",
       "\n",
       "    .dataframe tbody tr th {\n",
       "        vertical-align: top;\n",
       "    }\n",
       "\n",
       "    .dataframe thead th {\n",
       "        text-align: right;\n",
       "    }\n",
       "</style>\n",
       "<table border=\"1\" class=\"dataframe\">\n",
       "  <thead>\n",
       "    <tr style=\"text-align: right;\">\n",
       "      <th></th>\n",
       "      <th>피처</th>\n",
       "      <th>데이터 타입</th>\n",
       "      <th>결측값 수</th>\n",
       "      <th>고윳값 개수</th>\n",
       "      <th>1번째 값</th>\n",
       "      <th>2번째 값</th>\n",
       "      <th>3번째 값</th>\n",
       "    </tr>\n",
       "  </thead>\n",
       "  <tbody>\n",
       "    <tr>\n",
       "      <th>0</th>\n",
       "      <td>title</td>\n",
       "      <td>object</td>\n",
       "      <td>0</td>\n",
       "      <td>203</td>\n",
       "      <td>Toyota RAV 4</td>\n",
       "      <td>Toyota Land Cruiser</td>\n",
       "      <td>Land Rover Range Rover Evoque</td>\n",
       "    </tr>\n",
       "    <tr>\n",
       "      <th>1</th>\n",
       "      <td>odometer</td>\n",
       "      <td>int64</td>\n",
       "      <td>0</td>\n",
       "      <td>985</td>\n",
       "      <td>18277</td>\n",
       "      <td>10</td>\n",
       "      <td>83091</td>\n",
       "    </tr>\n",
       "    <tr>\n",
       "      <th>2</th>\n",
       "      <td>location</td>\n",
       "      <td>object</td>\n",
       "      <td>0</td>\n",
       "      <td>13</td>\n",
       "      <td>Lagos</td>\n",
       "      <td>Lagos</td>\n",
       "      <td>Lagos</td>\n",
       "    </tr>\n",
       "    <tr>\n",
       "      <th>3</th>\n",
       "      <td>isimported</td>\n",
       "      <td>object</td>\n",
       "      <td>0</td>\n",
       "      <td>3</td>\n",
       "      <td>Foreign Used</td>\n",
       "      <td>New</td>\n",
       "      <td>Foreign Used</td>\n",
       "    </tr>\n",
       "    <tr>\n",
       "      <th>4</th>\n",
       "      <td>engine</td>\n",
       "      <td>object</td>\n",
       "      <td>0</td>\n",
       "      <td>8</td>\n",
       "      <td>4-cylinder(I4)</td>\n",
       "      <td>4-cylinder(I4)</td>\n",
       "      <td>6-cylinder(V6)</td>\n",
       "    </tr>\n",
       "    <tr>\n",
       "      <th>5</th>\n",
       "      <td>transmission</td>\n",
       "      <td>object</td>\n",
       "      <td>0</td>\n",
       "      <td>2</td>\n",
       "      <td>automatic</td>\n",
       "      <td>automatic</td>\n",
       "      <td>automatic</td>\n",
       "    </tr>\n",
       "    <tr>\n",
       "      <th>6</th>\n",
       "      <td>fuel</td>\n",
       "      <td>object</td>\n",
       "      <td>0</td>\n",
       "      <td>2</td>\n",
       "      <td>petrol</td>\n",
       "      <td>petrol</td>\n",
       "      <td>petrol</td>\n",
       "    </tr>\n",
       "    <tr>\n",
       "      <th>7</th>\n",
       "      <td>paint</td>\n",
       "      <td>object</td>\n",
       "      <td>0</td>\n",
       "      <td>76</td>\n",
       "      <td>Red</td>\n",
       "      <td>Black</td>\n",
       "      <td>Red</td>\n",
       "    </tr>\n",
       "    <tr>\n",
       "      <th>8</th>\n",
       "      <td>year</td>\n",
       "      <td>int64</td>\n",
       "      <td>0</td>\n",
       "      <td>33</td>\n",
       "      <td>2016</td>\n",
       "      <td>2019</td>\n",
       "      <td>2012</td>\n",
       "    </tr>\n",
       "    <tr>\n",
       "      <th>9</th>\n",
       "      <td>target</td>\n",
       "      <td>int64</td>\n",
       "      <td>0</td>\n",
       "      <td>394</td>\n",
       "      <td>13665000</td>\n",
       "      <td>33015000</td>\n",
       "      <td>9915000</td>\n",
       "    </tr>\n",
       "  </tbody>\n",
       "</table>\n",
       "</div>"
      ],
      "text/plain": [
       "             피처  데이터 타입  결측값 수  고윳값 개수           1번째 값                2번째 값  \\\n",
       "0         title  object      0     203    Toyota RAV 4  Toyota Land Cruiser   \n",
       "1      odometer   int64      0     985           18277                   10   \n",
       "2      location  object      0      13          Lagos                 Lagos   \n",
       "3    isimported  object      0       3    Foreign Used                 New    \n",
       "4        engine  object      0       8  4-cylinder(I4)       4-cylinder(I4)   \n",
       "5  transmission  object      0       2       automatic            automatic   \n",
       "6          fuel  object      0       2          petrol               petrol   \n",
       "7         paint  object      0      76             Red                Black   \n",
       "8          year   int64      0      33            2016                 2019   \n",
       "9        target   int64      0     394        13665000             33015000   \n",
       "\n",
       "                           3번째 값  \n",
       "0  Land Rover Range Rover Evoque  \n",
       "1                          83091  \n",
       "2                          Lagos  \n",
       "3                   Foreign Used  \n",
       "4                 6-cylinder(V6)  \n",
       "5                      automatic  \n",
       "6                         petrol  \n",
       "7                            Red  \n",
       "8                           2012  \n",
       "9                        9915000  "
      ]
     },
     "execution_count": 72,
     "metadata": {},
     "output_type": "execute_result"
    }
   ],
   "source": [
    "resumetable(train)"
   ]
  },
  {
   "cell_type": "markdown",
   "metadata": {},
   "source": [
    "이 데이터는 결측값이 없는 데이터임을 알 수 있다."
   ]
  },
  {
   "cell_type": "code",
   "execution_count": 73,
   "metadata": {
    "ExecuteTime": {
     "end_time": "2022-06-12T07:17:19.542863Z",
     "start_time": "2022-06-12T07:17:19.530821Z"
    }
   },
   "outputs": [
    {
     "data": {
      "text/plain": [
       "id\n",
       "0                        Toyota RAV 4\n",
       "1                 Toyota Land Cruiser\n",
       "2       Land Rover Range Rover Evoque\n",
       "3                        Lexus ES 350\n",
       "4                        Toyota Venza\n",
       "                    ...              \n",
       "1010                   Toyota Corolla\n",
       "1011                     Toyota Camry\n",
       "1012                     Toyota Camry\n",
       "1013                     Lexus GX 460\n",
       "1014                           DAF CF\n",
       "Name: title, Length: 1015, dtype: object"
      ]
     },
     "execution_count": 73,
     "metadata": {},
     "output_type": "execute_result"
    }
   ],
   "source": [
    "train['title']"
   ]
  },
  {
   "cell_type": "code",
   "execution_count": 74,
   "metadata": {
    "ExecuteTime": {
     "end_time": "2022-06-12T07:17:19.557745Z",
     "start_time": "2022-06-12T07:17:19.544814Z"
    }
   },
   "outputs": [
    {
     "data": {
      "text/plain": [
       "array(['ALPINA', 'Acura', 'Audi', 'BMW', 'Bentley', 'Chevrolet', 'DAF',\n",
       "       'Dodge', 'Ford', 'GAC', 'GMC', 'Honda', 'Hyundai', 'IVECO', 'IVM',\n",
       "       'Infiniti', 'Isuzu', 'Iveco', 'JMC', 'Jaguar', 'Jeep', 'Kia',\n",
       "       'Land', 'Lexus', 'Lincoln', 'MAN-VOLKSWAGEN', 'MINI', 'Mack',\n",
       "       'Man', 'Mazda', 'Mercedes-Benz', 'Mercedes-Benz/52', 'Mitsubishi',\n",
       "       'Nissan', 'Peugeot', 'Pontiac', 'Porsche', 'Rolls-Royce', 'Scania',\n",
       "       'Toyota', 'Volkswagen', 'Volvo'], dtype='<U16')"
      ]
     },
     "execution_count": 74,
     "metadata": {},
     "output_type": "execute_result"
    }
   ],
   "source": [
    "np.unique([s.split()[0] for s in train['title']])"
   ]
  },
  {
   "cell_type": "markdown",
   "metadata": {},
   "source": [
    "브랜드명 + 제품명으로 되어있기 때문에 split을 이용해서 제조사명 구한다.  \n",
    "$\\rightarrow$   Land Rover은 브랜드명이 Land가 아니기 때문에 변환해줘야 함"
   ]
  },
  {
   "cell_type": "code",
   "execution_count": 75,
   "metadata": {
    "ExecuteTime": {
     "end_time": "2022-06-12T07:17:19.572830Z",
     "start_time": "2022-06-12T07:17:19.558744Z"
    }
   },
   "outputs": [],
   "source": [
    "train['title'] = train['title'].str.replace('Land Rover' ,'LandRover')"
   ]
  },
  {
   "cell_type": "code",
   "execution_count": 76,
   "metadata": {
    "ExecuteTime": {
     "end_time": "2022-06-12T07:17:19.587588Z",
     "start_time": "2022-06-12T07:17:19.574827Z"
    }
   },
   "outputs": [],
   "source": [
    "train['maker'] = [s[:len(s.split()[0])] for s in train['title']]\n",
    "train.drop('title', axis = 1, inplace = True)"
   ]
  },
  {
   "cell_type": "code",
   "execution_count": 77,
   "metadata": {
    "ExecuteTime": {
     "end_time": "2022-06-12T07:17:19.617972Z",
     "start_time": "2022-06-12T07:17:19.590048Z"
    }
   },
   "outputs": [
    {
     "name": "stdout",
     "output_type": "stream",
     "text": [
      "데이터셋 형상 : (1015, 10)\n"
     ]
    },
    {
     "data": {
      "text/html": [
       "<div>\n",
       "<style scoped>\n",
       "    .dataframe tbody tr th:only-of-type {\n",
       "        vertical-align: middle;\n",
       "    }\n",
       "\n",
       "    .dataframe tbody tr th {\n",
       "        vertical-align: top;\n",
       "    }\n",
       "\n",
       "    .dataframe thead th {\n",
       "        text-align: right;\n",
       "    }\n",
       "</style>\n",
       "<table border=\"1\" class=\"dataframe\">\n",
       "  <thead>\n",
       "    <tr style=\"text-align: right;\">\n",
       "      <th></th>\n",
       "      <th>피처</th>\n",
       "      <th>데이터 타입</th>\n",
       "      <th>결측값 수</th>\n",
       "      <th>고윳값 개수</th>\n",
       "      <th>1번째 값</th>\n",
       "      <th>2번째 값</th>\n",
       "      <th>3번째 값</th>\n",
       "    </tr>\n",
       "  </thead>\n",
       "  <tbody>\n",
       "    <tr>\n",
       "      <th>0</th>\n",
       "      <td>odometer</td>\n",
       "      <td>int64</td>\n",
       "      <td>0</td>\n",
       "      <td>985</td>\n",
       "      <td>18277</td>\n",
       "      <td>10</td>\n",
       "      <td>83091</td>\n",
       "    </tr>\n",
       "    <tr>\n",
       "      <th>1</th>\n",
       "      <td>location</td>\n",
       "      <td>object</td>\n",
       "      <td>0</td>\n",
       "      <td>13</td>\n",
       "      <td>Lagos</td>\n",
       "      <td>Lagos</td>\n",
       "      <td>Lagos</td>\n",
       "    </tr>\n",
       "    <tr>\n",
       "      <th>2</th>\n",
       "      <td>isimported</td>\n",
       "      <td>object</td>\n",
       "      <td>0</td>\n",
       "      <td>3</td>\n",
       "      <td>Foreign Used</td>\n",
       "      <td>New</td>\n",
       "      <td>Foreign Used</td>\n",
       "    </tr>\n",
       "    <tr>\n",
       "      <th>3</th>\n",
       "      <td>engine</td>\n",
       "      <td>object</td>\n",
       "      <td>0</td>\n",
       "      <td>8</td>\n",
       "      <td>4-cylinder(I4)</td>\n",
       "      <td>4-cylinder(I4)</td>\n",
       "      <td>6-cylinder(V6)</td>\n",
       "    </tr>\n",
       "    <tr>\n",
       "      <th>4</th>\n",
       "      <td>transmission</td>\n",
       "      <td>object</td>\n",
       "      <td>0</td>\n",
       "      <td>2</td>\n",
       "      <td>automatic</td>\n",
       "      <td>automatic</td>\n",
       "      <td>automatic</td>\n",
       "    </tr>\n",
       "    <tr>\n",
       "      <th>5</th>\n",
       "      <td>fuel</td>\n",
       "      <td>object</td>\n",
       "      <td>0</td>\n",
       "      <td>2</td>\n",
       "      <td>petrol</td>\n",
       "      <td>petrol</td>\n",
       "      <td>petrol</td>\n",
       "    </tr>\n",
       "    <tr>\n",
       "      <th>6</th>\n",
       "      <td>paint</td>\n",
       "      <td>object</td>\n",
       "      <td>0</td>\n",
       "      <td>76</td>\n",
       "      <td>Red</td>\n",
       "      <td>Black</td>\n",
       "      <td>Red</td>\n",
       "    </tr>\n",
       "    <tr>\n",
       "      <th>7</th>\n",
       "      <td>year</td>\n",
       "      <td>int64</td>\n",
       "      <td>0</td>\n",
       "      <td>33</td>\n",
       "      <td>2016</td>\n",
       "      <td>2019</td>\n",
       "      <td>2012</td>\n",
       "    </tr>\n",
       "    <tr>\n",
       "      <th>8</th>\n",
       "      <td>target</td>\n",
       "      <td>int64</td>\n",
       "      <td>0</td>\n",
       "      <td>394</td>\n",
       "      <td>13665000</td>\n",
       "      <td>33015000</td>\n",
       "      <td>9915000</td>\n",
       "    </tr>\n",
       "    <tr>\n",
       "      <th>9</th>\n",
       "      <td>maker</td>\n",
       "      <td>object</td>\n",
       "      <td>0</td>\n",
       "      <td>42</td>\n",
       "      <td>Toyota</td>\n",
       "      <td>Toyota</td>\n",
       "      <td>LandRover</td>\n",
       "    </tr>\n",
       "  </tbody>\n",
       "</table>\n",
       "</div>"
      ],
      "text/plain": [
       "             피처  데이터 타입  결측값 수  고윳값 개수           1번째 값           2번째 값  \\\n",
       "0      odometer   int64      0     985           18277              10   \n",
       "1      location  object      0      13          Lagos            Lagos   \n",
       "2    isimported  object      0       3    Foreign Used            New    \n",
       "3        engine  object      0       8  4-cylinder(I4)  4-cylinder(I4)   \n",
       "4  transmission  object      0       2       automatic       automatic   \n",
       "5          fuel  object      0       2          petrol          petrol   \n",
       "6         paint  object      0      76             Red           Black   \n",
       "7          year   int64      0      33            2016            2019   \n",
       "8        target   int64      0     394        13665000        33015000   \n",
       "9         maker  object      0      42          Toyota          Toyota   \n",
       "\n",
       "            3번째 값  \n",
       "0           83091  \n",
       "1           Lagos  \n",
       "2    Foreign Used  \n",
       "3  6-cylinder(V6)  \n",
       "4       automatic  \n",
       "5          petrol  \n",
       "6             Red  \n",
       "7            2012  \n",
       "8         9915000  \n",
       "9       LandRover  "
      ]
     },
     "execution_count": 77,
     "metadata": {},
     "output_type": "execute_result"
    }
   ],
   "source": [
    "resumetable(train)"
   ]
  },
  {
   "cell_type": "markdown",
   "metadata": {},
   "source": [
    "## 이진 변수"
   ]
  },
  {
   "cell_type": "markdown",
   "metadata": {},
   "source": [
    "- transmission, fuel"
   ]
  },
  {
   "cell_type": "code",
   "execution_count": 78,
   "metadata": {
    "ExecuteTime": {
     "end_time": "2022-06-12T07:17:19.632932Z",
     "start_time": "2022-06-12T07:17:19.619969Z"
    }
   },
   "outputs": [],
   "source": [
    "bin_features = ['transmission', 'fuel']"
   ]
  },
  {
   "cell_type": "code",
   "execution_count": 79,
   "metadata": {
    "ExecuteTime": {
     "end_time": "2022-06-12T07:17:19.648052Z",
     "start_time": "2022-06-12T07:17:19.633931Z"
    }
   },
   "outputs": [
    {
     "data": {
      "text/plain": [
       "array(['automatic', 'manual'], dtype=object)"
      ]
     },
     "execution_count": 79,
     "metadata": {},
     "output_type": "execute_result"
    }
   ],
   "source": [
    "train['transmission'].unique()"
   ]
  },
  {
   "cell_type": "code",
   "execution_count": 80,
   "metadata": {
    "ExecuteTime": {
     "end_time": "2022-06-12T07:17:19.662914Z",
     "start_time": "2022-06-12T07:17:19.649947Z"
    }
   },
   "outputs": [
    {
     "data": {
      "text/plain": [
       "array(['petrol', 'diesel'], dtype=object)"
      ]
     },
     "execution_count": 80,
     "metadata": {},
     "output_type": "execute_result"
    }
   ],
   "source": [
    "train['fuel'].unique()"
   ]
  },
  {
   "cell_type": "markdown",
   "metadata": {},
   "source": [
    "- 0,1로 인코딩"
   ]
  },
  {
   "cell_type": "code",
   "execution_count": 81,
   "metadata": {
    "ExecuteTime": {
     "end_time": "2022-06-12T07:17:19.678105Z",
     "start_time": "2022-06-12T07:17:19.665140Z"
    }
   },
   "outputs": [],
   "source": [
    "train['transmission'] = train['transmission'].map({'automatic' : 0, 'manual' : 1})\n",
    "train['fuel'] = train['fuel'].map({'petrol' : 0, 'diesel' : 1})"
   ]
  },
  {
   "cell_type": "code",
   "execution_count": 82,
   "metadata": {
    "ExecuteTime": {
     "end_time": "2022-06-12T07:17:19.698163Z",
     "start_time": "2022-06-12T07:17:19.680099Z"
    }
   },
   "outputs": [],
   "source": [
    "train['transmission'] = train['transmission'].astype(object)\n",
    "train['fuel'] = train['fuel'].astype(object)"
   ]
  },
  {
   "cell_type": "code",
   "execution_count": 83,
   "metadata": {
    "ExecuteTime": {
     "end_time": "2022-06-12T07:17:20.055988Z",
     "start_time": "2022-06-12T07:17:19.701093Z"
    }
   },
   "outputs": [
    {
     "data": {
      "image/png": "[encoded data removed]",
      "text/plain": [
       "<Figure size 432x288 with 2 Axes>"
      ]
     },
     "metadata": {
      "needs_background": "light"
     },
     "output_type": "display_data"
    }
   ],
   "source": [
    "fig, ax = plt.subplots(1, 2)\n",
    "sns.barplot(x = 'transmission', y = 'target', data = train, ax = ax[0])\n",
    "sns.boxplot(x = 'transmission', y = 'target', data = train, ax = ax[1])\n",
    "plt.show()"
   ]
  },
  {
   "cell_type": "code",
   "execution_count": 84,
   "metadata": {
    "ExecuteTime": {
     "end_time": "2022-06-12T07:17:20.372183Z",
     "start_time": "2022-06-12T07:17:20.057918Z"
    }
   },
   "outputs": [
    {
     "data": {
      "image/png": "[encoded data removed]",
      "text/plain": [
       "<Figure size 432x288 with 2 Axes>"
      ]
     },
     "metadata": {
      "needs_background": "light"
     },
     "output_type": "display_data"
    }
   ],
   "source": [
    "fig, ax = plt.subplots(1, 2)\n",
    "sns.barplot(x = 'fuel', y = 'target', data = train, ax = ax[0])\n",
    "sns.boxplot(x = 'fuel', y = 'target', data = train, ax = ax[1])\n",
    "plt.show()"
   ]
  },
  {
   "cell_type": "code",
   "execution_count": 85,
   "metadata": {
    "ExecuteTime": {
     "end_time": "2022-06-12T07:17:20.387079Z",
     "start_time": "2022-06-12T07:17:20.373179Z"
    }
   },
   "outputs": [],
   "source": [
    "train['trans_fuel'] = train['transmission'].astype(str) + train['fuel'].astype(str)"
   ]
  },
  {
   "cell_type": "code",
   "execution_count": 86,
   "metadata": {
    "ExecuteTime": {
     "end_time": "2022-06-12T07:17:20.704547Z",
     "start_time": "2022-06-12T07:17:20.388993Z"
    }
   },
   "outputs": [
    {
     "data": {
      "image/png": "[encoded data removed]",
      "text/plain": [
       "<Figure size 432x288 with 1 Axes>"
      ]
     },
     "metadata": {
      "needs_background": "light"
     },
     "output_type": "display_data"
    }
   ],
   "source": [
    "sns.barplot(x = 'trans_fuel', y = 'target', data = train,\n",
    "            estimator = np.median)\n",
    "plt.show()"
   ]
  },
  {
   "cell_type": "markdown",
   "metadata": {},
   "source": [
    "## 타겟 변수"
   ]
  },
  {
   "cell_type": "code",
   "execution_count": 87,
   "metadata": {
    "ExecuteTime": {
     "end_time": "2022-06-12T07:17:21.038953Z",
     "start_time": "2022-06-12T07:17:20.705580Z"
    }
   },
   "outputs": [
    {
     "data": {
      "image/png": "[encoded data removed]",
      "text/plain": [
       "<Figure size 720x720 with 1 Axes>"
      ]
     },
     "metadata": {
      "needs_background": "light"
     },
     "output_type": "display_data"
    }
   ],
   "source": [
    "plt.figure(figsize=(10,10))\n",
    "plt.hist(train['target'], bins=50, color='deepskyblue')\n",
    "plt.title('Target Histogram')\n",
    "plt.show()"
   ]
  },
  {
   "cell_type": "markdown",
   "metadata": {},
   "source": [
    "상당히 높은 중고차 가격들이 편차가 심하게 분포되어있는 것과 오른쪽 꼬리가 긴 것을 확인 할 수 있다. 가격 데이터이므로 납득이 가는 결과로 볼 수 있다. 이와 같은 경우 우리는 로그 변환 사용을 고려해 볼 수 있다.\n",
    "로그변환을 사용하여 정규분포와 가깝도록 변환시켜주면 좀 더 데이터 분석에 효과적이라고 볼 수 있다!"
   ]
  },
  {
   "cell_type": "code",
   "execution_count": 88,
   "metadata": {
    "ExecuteTime": {
     "end_time": "2022-06-12T07:17:21.264824Z",
     "start_time": "2022-06-12T07:17:21.043918Z"
    }
   },
   "outputs": [
    {
     "data": {
      "image/png": "[encoded data removed]",
      "text/plain": [
       "<Figure size 720x720 with 1 Axes>"
      ]
     },
     "metadata": {
      "needs_background": "light"
     },
     "output_type": "display_data"
    }
   ],
   "source": [
    "log_target = np.log(train['target'])\n",
    "plt.figure(figsize=(10,10))\n",
    "plt.hist(log_target, bins=50,color='deepskyblue')\n",
    "plt.title('Target Histogram with logarithm')\n",
    "plt.show()"
   ]
  },
  {
   "cell_type": "markdown",
   "metadata": {},
   "source": [
    "타겟 변수를 로그변환한 뒤 정규성을 확인 해보았다."
   ]
  },
  {
   "cell_type": "markdown",
   "metadata": {},
   "source": [
    "## 수치형 변수"
   ]
  },
  {
   "cell_type": "markdown",
   "metadata": {},
   "source": [
    "- odometer, year"
   ]
  },
  {
   "cell_type": "code",
   "execution_count": 89,
   "metadata": {
    "ExecuteTime": {
     "end_time": "2022-06-12T07:17:21.687112Z",
     "start_time": "2022-06-12T07:17:21.266762Z"
    }
   },
   "outputs": [
    {
     "data": {
      "image/png": "[encoded data removed]",
      "text/plain": [
       "<Figure size 864x432 with 2 Axes>"
      ]
     },
     "metadata": {},
     "output_type": "display_data"
    }
   ],
   "source": [
    "plt.style.use(\"ggplot\")\n",
    "\n",
    "plt.figure(figsize=(12,6))\n",
    "plt.suptitle(\"Histogram\", fontsize=20)\n",
    "\n",
    "plt.subplot(1,2,1)\n",
    "plt.hist(train.odometer, bins=50,color='deepskyblue')\n",
    "plt.title('Odometer Histogram')\n",
    "\n",
    "plt.subplot(1,2,2)\n",
    "plt.hist(train.year, bins=50,color='mediumslateblue')\n",
    "plt.title('Year Histogram')\n",
    "plt.show()"
   ]
  },
  {
   "cell_type": "markdown",
   "metadata": {},
   "source": [
    "그래프를 보면, year에서 1900년도 이하인 데이터도 존재하여 데이터 분포 범위가 1200 범위부터 시작되어있는 것을 확인하였는데 잘못 기입된 데이터인지 한번 확인해볼 필요가 있다."
   ]
  },
  {
   "cell_type": "code",
   "execution_count": 90,
   "metadata": {
    "ExecuteTime": {
     "end_time": "2022-06-12T07:17:21.702035Z",
     "start_time": "2022-06-12T07:17:21.688956Z"
    }
   },
   "outputs": [
    {
     "data": {
      "text/html": [
       "<div>\n",
       "<style scoped>\n",
       "    .dataframe tbody tr th:only-of-type {\n",
       "        vertical-align: middle;\n",
       "    }\n",
       "\n",
       "    .dataframe tbody tr th {\n",
       "        vertical-align: top;\n",
       "    }\n",
       "\n",
       "    .dataframe thead th {\n",
       "        text-align: right;\n",
       "    }\n",
       "</style>\n",
       "<table border=\"1\" class=\"dataframe\">\n",
       "  <thead>\n",
       "    <tr style=\"text-align: right;\">\n",
       "      <th></th>\n",
       "      <th>odometer</th>\n",
       "      <th>location</th>\n",
       "      <th>isimported</th>\n",
       "      <th>engine</th>\n",
       "      <th>transmission</th>\n",
       "      <th>fuel</th>\n",
       "      <th>paint</th>\n",
       "      <th>year</th>\n",
       "      <th>target</th>\n",
       "      <th>maker</th>\n",
       "      <th>trans_fuel</th>\n",
       "    </tr>\n",
       "    <tr>\n",
       "      <th>id</th>\n",
       "      <th></th>\n",
       "      <th></th>\n",
       "      <th></th>\n",
       "      <th></th>\n",
       "      <th></th>\n",
       "      <th></th>\n",
       "      <th></th>\n",
       "      <th></th>\n",
       "      <th></th>\n",
       "      <th></th>\n",
       "      <th></th>\n",
       "    </tr>\n",
       "  </thead>\n",
       "  <tbody>\n",
       "    <tr>\n",
       "      <th>415</th>\n",
       "      <td>403461</td>\n",
       "      <td>Lagos</td>\n",
       "      <td>Locally used</td>\n",
       "      <td>4-cylinder(I4)</td>\n",
       "      <td>1</td>\n",
       "      <td>1</td>\n",
       "      <td>white</td>\n",
       "      <td>1218</td>\n",
       "      <td>6015000</td>\n",
       "      <td>Mercedes-Benz</td>\n",
       "      <td>11</td>\n",
       "    </tr>\n",
       "    <tr>\n",
       "      <th>827</th>\n",
       "      <td>510053</td>\n",
       "      <td>Lagos</td>\n",
       "      <td>Locally used</td>\n",
       "      <td>6-cylinder(V6)</td>\n",
       "      <td>1</td>\n",
       "      <td>1</td>\n",
       "      <td>white</td>\n",
       "      <td>1217</td>\n",
       "      <td>75015000</td>\n",
       "      <td>Mercedes-Benz/52</td>\n",
       "      <td>11</td>\n",
       "    </tr>\n",
       "  </tbody>\n",
       "</table>\n",
       "</div>"
      ],
      "text/plain": [
       "     odometer location    isimported          engine transmission fuel  paint  \\\n",
       "id                                                                              \n",
       "415    403461    Lagos  Locally used  4-cylinder(I4)            1    1  white   \n",
       "827    510053    Lagos  Locally used  6-cylinder(V6)            1    1  white   \n",
       "\n",
       "     year    target             maker trans_fuel  \n",
       "id                                                \n",
       "415  1218   6015000     Mercedes-Benz         11  \n",
       "827  1217  75015000  Mercedes-Benz/52         11  "
      ]
     },
     "execution_count": 90,
     "metadata": {},
     "output_type": "execute_result"
    }
   ],
   "source": [
    "train[train['year'] < 1900]"
   ]
  },
  {
   "cell_type": "markdown",
   "metadata": {},
   "source": [
    "위의 year에서 1218, 1217 데이터가 존재  \n",
    "잘못 기입된 데이터라고 판단될 수 있으므로 제거"
   ]
  },
  {
   "cell_type": "code",
   "execution_count": 91,
   "metadata": {
    "ExecuteTime": {
     "end_time": "2022-06-12T07:17:21.716851Z",
     "start_time": "2022-06-12T07:17:21.703885Z"
    }
   },
   "outputs": [
    {
     "data": {
      "text/plain": [
       "(1013, 11)"
      ]
     },
     "execution_count": 91,
     "metadata": {},
     "output_type": "execute_result"
    }
   ],
   "source": [
    "train = train[train['year'] > 1900]\n",
    "train.shape"
   ]
  },
  {
   "cell_type": "code",
   "execution_count": 92,
   "metadata": {
    "ExecuteTime": {
     "end_time": "2022-06-12T07:17:21.746916Z",
     "start_time": "2022-06-12T07:17:21.717849Z"
    }
   },
   "outputs": [
    {
     "data": {
      "text/html": [
       "<div>\n",
       "<style scoped>\n",
       "    .dataframe tbody tr th:only-of-type {\n",
       "        vertical-align: middle;\n",
       "    }\n",
       "\n",
       "    .dataframe tbody tr th {\n",
       "        vertical-align: top;\n",
       "    }\n",
       "\n",
       "    .dataframe thead th {\n",
       "        text-align: right;\n",
       "    }\n",
       "</style>\n",
       "<table border=\"1\" class=\"dataframe\">\n",
       "  <thead>\n",
       "    <tr style=\"text-align: right;\">\n",
       "      <th></th>\n",
       "      <th>odometer</th>\n",
       "      <th>location</th>\n",
       "      <th>isimported</th>\n",
       "      <th>engine</th>\n",
       "      <th>transmission</th>\n",
       "      <th>fuel</th>\n",
       "      <th>paint</th>\n",
       "      <th>year</th>\n",
       "      <th>target</th>\n",
       "      <th>maker</th>\n",
       "      <th>trans_fuel</th>\n",
       "    </tr>\n",
       "    <tr>\n",
       "      <th>id</th>\n",
       "      <th></th>\n",
       "      <th></th>\n",
       "      <th></th>\n",
       "      <th></th>\n",
       "      <th></th>\n",
       "      <th></th>\n",
       "      <th></th>\n",
       "      <th></th>\n",
       "      <th></th>\n",
       "      <th></th>\n",
       "      <th></th>\n",
       "    </tr>\n",
       "  </thead>\n",
       "  <tbody>\n",
       "    <tr>\n",
       "      <th>0</th>\n",
       "      <td>18277</td>\n",
       "      <td>Lagos</td>\n",
       "      <td>Foreign Used</td>\n",
       "      <td>4-cylinder(I4)</td>\n",
       "      <td>0</td>\n",
       "      <td>0</td>\n",
       "      <td>Red</td>\n",
       "      <td>2016</td>\n",
       "      <td>13665000</td>\n",
       "      <td>Toyota</td>\n",
       "      <td>00</td>\n",
       "    </tr>\n",
       "    <tr>\n",
       "      <th>1</th>\n",
       "      <td>10</td>\n",
       "      <td>Lagos</td>\n",
       "      <td>New</td>\n",
       "      <td>4-cylinder(I4)</td>\n",
       "      <td>0</td>\n",
       "      <td>0</td>\n",
       "      <td>Black</td>\n",
       "      <td>2019</td>\n",
       "      <td>33015000</td>\n",
       "      <td>Toyota</td>\n",
       "      <td>00</td>\n",
       "    </tr>\n",
       "    <tr>\n",
       "      <th>2</th>\n",
       "      <td>83091</td>\n",
       "      <td>Lagos</td>\n",
       "      <td>Foreign Used</td>\n",
       "      <td>6-cylinder(V6)</td>\n",
       "      <td>0</td>\n",
       "      <td>0</td>\n",
       "      <td>Red</td>\n",
       "      <td>2012</td>\n",
       "      <td>9915000</td>\n",
       "      <td>LandRover</td>\n",
       "      <td>00</td>\n",
       "    </tr>\n",
       "    <tr>\n",
       "      <th>3</th>\n",
       "      <td>91524</td>\n",
       "      <td>Lagos</td>\n",
       "      <td>Foreign Used</td>\n",
       "      <td>4-cylinder(I4)</td>\n",
       "      <td>0</td>\n",
       "      <td>0</td>\n",
       "      <td>Gray</td>\n",
       "      <td>2007</td>\n",
       "      <td>3815000</td>\n",
       "      <td>Lexus</td>\n",
       "      <td>00</td>\n",
       "    </tr>\n",
       "    <tr>\n",
       "      <th>4</th>\n",
       "      <td>94177</td>\n",
       "      <td>Lagos</td>\n",
       "      <td>Foreign Used</td>\n",
       "      <td>6-cylinder(V6)</td>\n",
       "      <td>0</td>\n",
       "      <td>0</td>\n",
       "      <td>Red</td>\n",
       "      <td>2010</td>\n",
       "      <td>7385000</td>\n",
       "      <td>Toyota</td>\n",
       "      <td>00</td>\n",
       "    </tr>\n",
       "    <tr>\n",
       "      <th>...</th>\n",
       "      <td>...</td>\n",
       "      <td>...</td>\n",
       "      <td>...</td>\n",
       "      <td>...</td>\n",
       "      <td>...</td>\n",
       "      <td>...</td>\n",
       "      <td>...</td>\n",
       "      <td>...</td>\n",
       "      <td>...</td>\n",
       "      <td>...</td>\n",
       "      <td>...</td>\n",
       "    </tr>\n",
       "    <tr>\n",
       "      <th>1010</th>\n",
       "      <td>46768</td>\n",
       "      <td>Lagos</td>\n",
       "      <td>Foreign Used</td>\n",
       "      <td>4-cylinder(I4)</td>\n",
       "      <td>0</td>\n",
       "      <td>0</td>\n",
       "      <td>Black</td>\n",
       "      <td>2014</td>\n",
       "      <td>5415000</td>\n",
       "      <td>Toyota</td>\n",
       "      <td>00</td>\n",
       "    </tr>\n",
       "    <tr>\n",
       "      <th>1011</th>\n",
       "      <td>31600</td>\n",
       "      <td>Abuja</td>\n",
       "      <td>Foreign Used</td>\n",
       "      <td>4-cylinder(I4)</td>\n",
       "      <td>0</td>\n",
       "      <td>0</td>\n",
       "      <td>Silver</td>\n",
       "      <td>2011</td>\n",
       "      <td>3615000</td>\n",
       "      <td>Toyota</td>\n",
       "      <td>00</td>\n",
       "    </tr>\n",
       "    <tr>\n",
       "      <th>1012</th>\n",
       "      <td>96802</td>\n",
       "      <td>Abuja</td>\n",
       "      <td>Foreign Used</td>\n",
       "      <td>4-cylinder(I4)</td>\n",
       "      <td>0</td>\n",
       "      <td>0</td>\n",
       "      <td>Black</td>\n",
       "      <td>2011</td>\n",
       "      <td>3415000</td>\n",
       "      <td>Toyota</td>\n",
       "      <td>00</td>\n",
       "    </tr>\n",
       "    <tr>\n",
       "      <th>1013</th>\n",
       "      <td>146275</td>\n",
       "      <td>Lagos</td>\n",
       "      <td>Foreign Used</td>\n",
       "      <td>6-cylinder(V6)</td>\n",
       "      <td>0</td>\n",
       "      <td>0</td>\n",
       "      <td>Gold</td>\n",
       "      <td>2013</td>\n",
       "      <td>14315000</td>\n",
       "      <td>Lexus</td>\n",
       "      <td>00</td>\n",
       "    </tr>\n",
       "    <tr>\n",
       "      <th>1014</th>\n",
       "      <td>0</td>\n",
       "      <td>Lagos</td>\n",
       "      <td>Locally used</td>\n",
       "      <td>6-cylinder(V6)</td>\n",
       "      <td>1</td>\n",
       "      <td>1</td>\n",
       "      <td>white</td>\n",
       "      <td>1998</td>\n",
       "      <td>10015000</td>\n",
       "      <td>DAF</td>\n",
       "      <td>11</td>\n",
       "    </tr>\n",
       "  </tbody>\n",
       "</table>\n",
       "<p>1013 rows × 11 columns</p>\n",
       "</div>"
      ],
      "text/plain": [
       "      odometer location    isimported          engine transmission fuel  \\\n",
       "id                                                                        \n",
       "0        18277   Lagos   Foreign Used  4-cylinder(I4)            0    0   \n",
       "1           10    Lagos          New   4-cylinder(I4)            0    0   \n",
       "2        83091    Lagos  Foreign Used  6-cylinder(V6)            0    0   \n",
       "3        91524    Lagos  Foreign Used  4-cylinder(I4)            0    0   \n",
       "4        94177    Lagos  Foreign Used  6-cylinder(V6)            0    0   \n",
       "...        ...      ...           ...             ...          ...  ...   \n",
       "1010     46768    Lagos  Foreign Used  4-cylinder(I4)            0    0   \n",
       "1011     31600    Abuja  Foreign Used  4-cylinder(I4)            0    0   \n",
       "1012     96802    Abuja  Foreign Used  4-cylinder(I4)            0    0   \n",
       "1013    146275    Lagos  Foreign Used  6-cylinder(V6)            0    0   \n",
       "1014         0    Lagos  Locally used  6-cylinder(V6)            1    1   \n",
       "\n",
       "       paint  year    target      maker trans_fuel  \n",
       "id                                                  \n",
       "0        Red  2016  13665000     Toyota         00  \n",
       "1      Black  2019  33015000     Toyota         00  \n",
       "2        Red  2012   9915000  LandRover         00  \n",
       "3       Gray  2007   3815000      Lexus         00  \n",
       "4        Red  2010   7385000     Toyota         00  \n",
       "...      ...   ...       ...        ...        ...  \n",
       "1010   Black  2014   5415000     Toyota         00  \n",
       "1011  Silver  2011   3615000     Toyota         00  \n",
       "1012   Black  2011   3415000     Toyota         00  \n",
       "1013    Gold  2013  14315000      Lexus         00  \n",
       "1014   white  1998  10015000        DAF         11  \n",
       "\n",
       "[1013 rows x 11 columns]"
      ]
     },
     "execution_count": 92,
     "metadata": {},
     "output_type": "execute_result"
    }
   ],
   "source": [
    "train"
   ]
  },
  {
   "cell_type": "code",
   "execution_count": 93,
   "metadata": {
    "ExecuteTime": {
     "end_time": "2022-06-12T07:17:21.777075Z",
     "start_time": "2022-06-12T07:17:21.748876Z"
    }
   },
   "outputs": [
    {
     "data": {
      "text/html": [
       "<div>\n",
       "<style scoped>\n",
       "    .dataframe tbody tr th:only-of-type {\n",
       "        vertical-align: middle;\n",
       "    }\n",
       "\n",
       "    .dataframe tbody tr th {\n",
       "        vertical-align: top;\n",
       "    }\n",
       "\n",
       "    .dataframe thead th {\n",
       "        text-align: right;\n",
       "    }\n",
       "</style>\n",
       "<table border=\"1\" class=\"dataframe\">\n",
       "  <thead>\n",
       "    <tr style=\"text-align: right;\">\n",
       "      <th></th>\n",
       "      <th>odometer</th>\n",
       "      <th>year</th>\n",
       "    </tr>\n",
       "  </thead>\n",
       "  <tbody>\n",
       "    <tr>\n",
       "      <th>count</th>\n",
       "      <td>1013.000000</td>\n",
       "      <td>1013.000000</td>\n",
       "    </tr>\n",
       "    <tr>\n",
       "      <th>mean</th>\n",
       "      <td>116171.015795</td>\n",
       "      <td>2009.946693</td>\n",
       "    </tr>\n",
       "    <tr>\n",
       "      <th>std</th>\n",
       "      <td>104147.052690</td>\n",
       "      <td>5.540466</td>\n",
       "    </tr>\n",
       "    <tr>\n",
       "      <th>min</th>\n",
       "      <td>0.000000</td>\n",
       "      <td>1980.000000</td>\n",
       "    </tr>\n",
       "    <tr>\n",
       "      <th>25%</th>\n",
       "      <td>55775.000000</td>\n",
       "      <td>2006.000000</td>\n",
       "    </tr>\n",
       "    <tr>\n",
       "      <th>50%</th>\n",
       "      <td>94803.000000</td>\n",
       "      <td>2010.000000</td>\n",
       "    </tr>\n",
       "    <tr>\n",
       "      <th>75%</th>\n",
       "      <td>152878.000000</td>\n",
       "      <td>2014.000000</td>\n",
       "    </tr>\n",
       "    <tr>\n",
       "      <th>max</th>\n",
       "      <td>987322.000000</td>\n",
       "      <td>2020.000000</td>\n",
       "    </tr>\n",
       "  </tbody>\n",
       "</table>\n",
       "</div>"
      ],
      "text/plain": [
       "            odometer         year\n",
       "count    1013.000000  1013.000000\n",
       "mean   116171.015795  2009.946693\n",
       "std    104147.052690     5.540466\n",
       "min         0.000000  1980.000000\n",
       "25%     55775.000000  2006.000000\n",
       "50%     94803.000000  2010.000000\n",
       "75%    152878.000000  2014.000000\n",
       "max    987322.000000  2020.000000"
      ]
     },
     "execution_count": 93,
     "metadata": {},
     "output_type": "execute_result"
    }
   ],
   "source": [
    "data_description = train.describe().iloc[:,0:2]\n",
    "data_description"
   ]
  },
  {
   "cell_type": "code",
   "execution_count": 94,
   "metadata": {
    "ExecuteTime": {
     "end_time": "2022-06-12T07:17:21.792035Z",
     "start_time": "2022-06-12T07:17:21.779042Z"
    }
   },
   "outputs": [
    {
     "name": "stdout",
     "output_type": "stream",
     "text": [
      "odometer 평균은 116171 입니다\n",
      "odometer 중앙값은 94803 입니다\n"
     ]
    }
   ],
   "source": [
    "print('odometer 평균은', round(data_description['odometer']['mean']), '입니다')\n",
    "print('odometer 중앙값은', round(data_description['odometer']['50%']), '입니다')"
   ]
  },
  {
   "cell_type": "markdown",
   "metadata": {},
   "source": [
    "평균 주행거리는 116171, 중앙값은 94803으로 평균에 비해 중앙값이 좌측으로 치우쳐져 있다.  \n",
    "또한 데이터 분포를 보면 좌편향 되어있는 것을 보아 주행거리가 데이터 평균에 비하여 매우 큰 값이 드물게 존재하는 것을 확인해볼 수 있다.  \n",
    "$\\rightarrow$  따라서 주행거리 0 ~ 987,322 사이 범위에서 비교적 적은 거리의 데이터가 많이 분포한다 것을 확인하였습니다."
   ]
  },
  {
   "cell_type": "code",
   "execution_count": 95,
   "metadata": {
    "ExecuteTime": {
     "end_time": "2022-06-12T07:17:21.807056Z",
     "start_time": "2022-06-12T07:17:21.793034Z"
    }
   },
   "outputs": [
    {
     "name": "stdout",
     "output_type": "stream",
     "text": [
      "year 평균은 2010 입니다\n",
      "year 중앙값은 2010 입니다\n"
     ]
    }
   ],
   "source": [
    "print('year 평균은', round(data_description['year']['mean']), '입니다')\n",
    "print('year 중앙값은', round(data_description['year']['50%']), '입니다')"
   ]
  },
  {
   "cell_type": "markdown",
   "metadata": {},
   "source": [
    "평균과 중앙값이 2010년도 인 것을 알 수 있다.  \n",
    "또한 데이터 분포를 보면 우편향 되어있는 것을 보아 연식이 데이터 평균에 비하여 매우 작은 값이 드물게 존재하는 것을 확인해볼 수 있다.  \n",
    "$\\rightarrow$ 따라서 1980~2020 범위에서 비교적 최신 연도의 데이터가 많이 분포한다는 것을 확인하였다."
   ]
  },
  {
   "cell_type": "code",
   "execution_count": 96,
   "metadata": {
    "ExecuteTime": {
     "end_time": "2022-06-12T07:17:22.019911Z",
     "start_time": "2022-06-12T07:17:21.810060Z"
    }
   },
   "outputs": [
    {
     "data": {
      "text/plain": [
       "<AxesSubplot:xlabel='odometer', ylabel='target'>"
      ]
     },
     "execution_count": 96,
     "metadata": {},
     "output_type": "execute_result"
    },
    {
     "data": {
      "image/png": "[encoded data removed]",
      "text/plain": [
       "<Figure size 432x288 with 1 Axes>"
      ]
     },
     "metadata": {},
     "output_type": "display_data"
    }
   ],
   "source": [
    "sns.scatterplot(x = 'odometer', y = 'target', data = train,color='lightseagreen')"
   ]
  },
  {
   "cell_type": "code",
   "execution_count": 97,
   "metadata": {
    "ExecuteTime": {
     "end_time": "2022-06-12T07:17:22.034945Z",
     "start_time": "2022-06-12T07:17:22.021914Z"
    }
   },
   "outputs": [],
   "source": [
    "train['logy'] = np.log(train['target'])"
   ]
  },
  {
   "cell_type": "code",
   "execution_count": 98,
   "metadata": {
    "ExecuteTime": {
     "end_time": "2022-06-12T07:17:22.215991Z",
     "start_time": "2022-06-12T07:17:22.035867Z"
    }
   },
   "outputs": [
    {
     "data": {
      "text/plain": [
       "<AxesSubplot:xlabel='odometer', ylabel='logy'>"
      ]
     },
     "execution_count": 98,
     "metadata": {},
     "output_type": "execute_result"
    },
    {
     "data": {
      "image/png": "[encoded data removed]",
      "text/plain": [
       "<Figure size 432x288 with 1 Axes>"
      ]
     },
     "metadata": {},
     "output_type": "display_data"
    }
   ],
   "source": [
    "sns.scatterplot(x = 'odometer', y = 'logy', data = train,color='lightseagreen')"
   ]
  },
  {
   "cell_type": "code",
   "execution_count": 99,
   "metadata": {
    "ExecuteTime": {
     "end_time": "2022-06-12T07:17:22.230920Z",
     "start_time": "2022-06-12T07:17:22.217854Z"
    }
   },
   "outputs": [],
   "source": [
    "train['year_diff'] = [2020-s for s in train['year']]"
   ]
  },
  {
   "cell_type": "code",
   "execution_count": 100,
   "metadata": {
    "ExecuteTime": {
     "end_time": "2022-06-12T07:17:22.427461Z",
     "start_time": "2022-06-12T07:17:22.232816Z"
    }
   },
   "outputs": [
    {
     "data": {
      "text/plain": [
       "<AxesSubplot:xlabel='year_diff', ylabel='logy'>"
      ]
     },
     "execution_count": 100,
     "metadata": {},
     "output_type": "execute_result"
    },
    {
     "data": {
      "image/png": "[encoded data removed]",
      "text/plain": [
       "<Figure size 432x288 with 1 Axes>"
      ]
     },
     "metadata": {},
     "output_type": "display_data"
    }
   ],
   "source": [
    "sns.scatterplot(x = 'year_diff', y = 'logy', data = train,color='lightseagreen')"
   ]
  },
  {
   "cell_type": "markdown",
   "metadata": {},
   "source": [
    "## 명목형 변수"
   ]
  },
  {
   "cell_type": "code",
   "execution_count": 101,
   "metadata": {
    "ExecuteTime": {
     "end_time": "2022-06-12T07:17:22.472077Z",
     "start_time": "2022-06-12T07:17:22.430170Z"
    }
   },
   "outputs": [
    {
     "data": {
      "text/html": [
       "<div>\n",
       "<style scoped>\n",
       "    .dataframe tbody tr th:only-of-type {\n",
       "        vertical-align: middle;\n",
       "    }\n",
       "\n",
       "    .dataframe tbody tr th {\n",
       "        vertical-align: top;\n",
       "    }\n",
       "\n",
       "    .dataframe thead th {\n",
       "        text-align: right;\n",
       "    }\n",
       "</style>\n",
       "<table border=\"1\" class=\"dataframe\">\n",
       "  <thead>\n",
       "    <tr style=\"text-align: right;\">\n",
       "      <th></th>\n",
       "      <th>location</th>\n",
       "      <th>isimported</th>\n",
       "      <th>engine</th>\n",
       "      <th>transmission</th>\n",
       "      <th>fuel</th>\n",
       "      <th>paint</th>\n",
       "      <th>maker</th>\n",
       "      <th>trans_fuel</th>\n",
       "    </tr>\n",
       "  </thead>\n",
       "  <tbody>\n",
       "    <tr>\n",
       "      <th>count</th>\n",
       "      <td>1013</td>\n",
       "      <td>1013</td>\n",
       "      <td>1013</td>\n",
       "      <td>1013</td>\n",
       "      <td>1013</td>\n",
       "      <td>1013</td>\n",
       "      <td>1013</td>\n",
       "      <td>1013</td>\n",
       "    </tr>\n",
       "    <tr>\n",
       "      <th>unique</th>\n",
       "      <td>13</td>\n",
       "      <td>3</td>\n",
       "      <td>8</td>\n",
       "      <td>2</td>\n",
       "      <td>2</td>\n",
       "      <td>76</td>\n",
       "      <td>41</td>\n",
       "      <td>4</td>\n",
       "    </tr>\n",
       "    <tr>\n",
       "      <th>top</th>\n",
       "      <td>Lagos</td>\n",
       "      <td>Foreign Used</td>\n",
       "      <td>4-cylinder(I4)</td>\n",
       "      <td>0</td>\n",
       "      <td>0</td>\n",
       "      <td>Black</td>\n",
       "      <td>Toyota</td>\n",
       "      <td>00</td>\n",
       "    </tr>\n",
       "    <tr>\n",
       "      <th>freq</th>\n",
       "      <td>790</td>\n",
       "      <td>744</td>\n",
       "      <td>617</td>\n",
       "      <td>965</td>\n",
       "      <td>970</td>\n",
       "      <td>292</td>\n",
       "      <td>474</td>\n",
       "      <td>963</td>\n",
       "    </tr>\n",
       "  </tbody>\n",
       "</table>\n",
       "</div>"
      ],
      "text/plain": [
       "       location    isimported          engine  transmission  fuel  paint  \\\n",
       "count      1013          1013            1013          1013  1013   1013   \n",
       "unique       13             3               8             2     2     76   \n",
       "top       Lagos  Foreign Used  4-cylinder(I4)             0     0  Black   \n",
       "freq        790           744             617           965   970    292   \n",
       "\n",
       "         maker trans_fuel  \n",
       "count     1013       1013  \n",
       "unique      41          4  \n",
       "top     Toyota         00  \n",
       "freq       474        963  "
      ]
     },
     "execution_count": 101,
     "metadata": {},
     "output_type": "execute_result"
    }
   ],
   "source": [
    "train.describe(include=\"object\")"
   ]
  },
  {
   "cell_type": "code",
   "execution_count": 102,
   "metadata": {
    "ExecuteTime": {
     "end_time": "2022-06-12T07:17:22.487259Z",
     "start_time": "2022-06-12T07:17:22.473926Z"
    }
   },
   "outputs": [],
   "source": [
    "train['isimported'] = train['isimported'].map({'New ' : 0,\n",
    "                                               'Foreign Used' : 1,\n",
    "                                               'Locally used' : 2})"
   ]
  },
  {
   "cell_type": "code",
   "execution_count": 103,
   "metadata": {
    "ExecuteTime": {
     "end_time": "2022-06-12T07:17:22.502913Z",
     "start_time": "2022-06-12T07:17:22.489254Z"
    }
   },
   "outputs": [
    {
     "data": {
      "text/plain": [
       "id\n",
       "0       1\n",
       "1       0\n",
       "2       1\n",
       "3       1\n",
       "4       1\n",
       "       ..\n",
       "1010    1\n",
       "1011    1\n",
       "1012    1\n",
       "1013    1\n",
       "1014    2\n",
       "Name: isimported, Length: 1013, dtype: object"
      ]
     },
     "execution_count": 103,
     "metadata": {},
     "output_type": "execute_result"
    }
   ],
   "source": [
    "train['isimported'] = train['isimported'].astype(object)\n",
    "train['isimported'] "
   ]
  },
  {
   "cell_type": "markdown",
   "metadata": {},
   "source": [
    "가장 많은 marker가 Toyota 차로 474대수가 있고, paint는 Black 색상으로 292대수가 있다."
   ]
  },
  {
   "cell_type": "markdown",
   "metadata": {},
   "source": [
    "- paint"
   ]
  },
  {
   "cell_type": "code",
   "execution_count": 104,
   "metadata": {
    "ExecuteTime": {
     "end_time": "2022-06-12T07:17:22.517872Z",
     "start_time": "2022-06-12T07:17:22.504908Z"
    }
   },
   "outputs": [
    {
     "data": {
      "text/plain": [
       "Black         292\n",
       "White         115\n",
       "Silver        103\n",
       "Grey           84\n",
       "Blue           70\n",
       "Red            53\n",
       "Dark Grey      47\n",
       "Gold           37\n",
       "white          24\n",
       "Green          18\n",
       "Gray           17\n",
       "Brown          16\n",
       "Black          15\n",
       "Dark Blue      14\n",
       "Wine            8\n",
       "Silver          5\n",
       "red             5\n",
       "Sliver          5\n",
       "blue            5\n",
       "Grey            3\n",
       "Gold            3\n",
       "Purple          3\n",
       "Blue            3\n",
       "Dark Ash        3\n",
       "Ash             3\n",
       "Dark blue       3\n",
       "White           2\n",
       "Sky blue        2\n",
       "Dark gray       2\n",
       "white-blue      2\n",
       "Name: paint, dtype: int64"
      ]
     },
     "execution_count": 104,
     "metadata": {},
     "output_type": "execute_result"
    }
   ],
   "source": [
    "train['paint'].value_counts()[:30]"
   ]
  },
  {
   "cell_type": "markdown",
   "metadata": {},
   "source": [
    "띄어쓰기, 대소문자가 고르지 못한 단어들이 보여서 통일성을 맞추려고 한다."
   ]
  },
  {
   "cell_type": "code",
   "execution_count": 105,
   "metadata": {
    "ExecuteTime": {
     "end_time": "2022-06-12T07:17:22.532820Z",
     "start_time": "2022-06-12T07:17:22.518872Z"
    }
   },
   "outputs": [],
   "source": [
    "train['paint']=train['paint'].str.lstrip()"
   ]
  },
  {
   "cell_type": "code",
   "execution_count": 106,
   "metadata": {
    "ExecuteTime": {
     "end_time": "2022-06-12T07:17:22.547841Z",
     "start_time": "2022-06-12T07:17:22.534813Z"
    }
   },
   "outputs": [],
   "source": [
    "train['paint']=train['paint'].str.rstrip()"
   ]
  },
  {
   "cell_type": "code",
   "execution_count": 107,
   "metadata": {
    "ExecuteTime": {
     "end_time": "2022-06-12T07:17:22.562864Z",
     "start_time": "2022-06-12T07:17:22.549843Z"
    }
   },
   "outputs": [],
   "source": [
    "train['paint']=train['paint'].str.lower()"
   ]
  },
  {
   "cell_type": "code",
   "execution_count": 108,
   "metadata": {
    "ExecuteTime": {
     "end_time": "2022-06-12T07:17:22.577759Z",
     "start_time": "2022-06-12T07:17:22.565070Z"
    }
   },
   "outputs": [
    {
     "data": {
      "text/plain": [
       "black                     309\n",
       "white                     142\n",
       "silver                    109\n",
       "grey                       87\n",
       "blue                       78\n",
       "red                        58\n",
       "dark grey                  48\n",
       "gold                       41\n",
       "green                      20\n",
       "gray                       18\n",
       "dark blue                  17\n",
       "brown                      16\n",
       "wine                        9\n",
       "sliver                      5\n",
       "cream                       4\n",
       "dark ash                    4\n",
       "purple                      3\n",
       "yellow                      3\n",
       "ash                         3\n",
       "maroon                      2\n",
       "dark gray                   2\n",
       "milk                        2\n",
       "deep blue                   2\n",
       "sky blue                    2\n",
       "white-blue                  2\n",
       "black and silver            1\n",
       "off white l                 1\n",
       "off white                   1\n",
       "light gold                  1\n",
       "skye blue                   1\n",
       "super white                 1\n",
       "orange                      1\n",
       "black sand pearl            1\n",
       "ink blue                    1\n",
       "beige                       1\n",
       "pale brown                  1\n",
       "magnetic gray metallic      1\n",
       "light silver                1\n",
       "redl                        1\n",
       "dark silver                 1\n",
       "black/red                   1\n",
       "midnight black metal        1\n",
       "whine                       1\n",
       "navy blue                   1\n",
       "ash and black               1\n",
       "black.                      1\n",
       "white orchild pearl         1\n",
       "light blue                  1\n",
       "silver/grey                 1\n",
       "dark green                  1\n",
       "gery                        1\n",
       "magnetic gray               1\n",
       "Name: paint, dtype: int64"
      ]
     },
     "execution_count": 108,
     "metadata": {},
     "output_type": "execute_result"
    }
   ],
   "source": [
    "train['paint'].value_counts()"
   ]
  },
  {
   "cell_type": "code",
   "execution_count": 109,
   "metadata": {
    "ExecuteTime": {
     "end_time": "2022-06-12T07:17:22.592803Z",
     "start_time": "2022-06-12T07:17:22.579788Z"
    }
   },
   "outputs": [],
   "source": [
    "train['paint'] = [s.replace('skye', 'sky') for s in train['paint']]\n",
    "train['paint'] = [s.replace('redl', 'red') for s in train['paint']]\n",
    "train['paint'] = [s.replace('gray', 'grey') for s in train['paint']]\n",
    "train['paint'] = [s.replace('gery', 'grey') for s in train['paint']]\n",
    "train['paint'] = [s.replace('sliver', 'silver') for s in train['paint']]\n",
    "train['paint'] = [s.replace('whine', 'wine') for s in train['paint']]"
   ]
  },
  {
   "cell_type": "code",
   "execution_count": 110,
   "metadata": {
    "ExecuteTime": {
     "end_time": "2022-06-12T07:17:22.623887Z",
     "start_time": "2022-06-12T07:17:22.594714Z"
    }
   },
   "outputs": [],
   "source": [
    "train['paint'] = train['paint'] = train['paint'].apply(lambda x : 'blue' if x.find('blue') >= 0 else x)\n",
    "train['paint'] = train['paint'] = train['paint'].apply(lambda x : 'red' if x.find('red') >= 0 else x)\n",
    "train['paint'] = train['paint'] = train['paint'].apply(lambda x : 'green' if x.find('green') >= 0 else x)\n",
    "train['paint'] = train['paint'] = train['paint'].apply(lambda x : 'white' if x.find('white') >= 0 else x)\n",
    "train['paint'] = train['paint'] = train['paint'].apply(lambda x : 'grey' if x.find('grey') >= 0 else x)\n",
    "train['paint'] = train['paint'] = train['paint'].apply(lambda x : 'ash' if x.find('ash') >= 0 else x)\n",
    "train['paint'] = train['paint'] = train['paint'].apply(lambda x : 'brown' if x.find('brown') >= 0 else x)\n",
    "train['paint'] = train['paint'] = train['paint'].apply(lambda x : 'silver' if x.find('silver') >= 0 else x)\n",
    "train['paint'] = train['paint'] = train['paint'].apply(lambda x : 'black' if x.find('black') >= 0 else x)\n",
    "train['paint'] = train['paint'] = train['paint'].apply(lambda x : 'gold' if x.find('gold') >= 0 else x)\n",
    "train['paint'] = train['paint'] = train['paint'].apply(lambda x : 'wine' if x.find('whine') >= 0 else x)"
   ]
  },
  {
   "cell_type": "code",
   "execution_count": 111,
   "metadata": {
    "ExecuteTime": {
     "end_time": "2022-06-12T07:17:22.638993Z",
     "start_time": "2022-06-12T07:17:22.625887Z"
    }
   },
   "outputs": [
    {
     "data": {
      "text/plain": [
       "black     312\n",
       "grey      159\n",
       "white     146\n",
       "silver    117\n",
       "blue      105\n",
       "red        60\n",
       "gold       42\n",
       "green      21\n",
       "brown      17\n",
       "wine       10\n",
       "ash         8\n",
       "cream       4\n",
       "purple      3\n",
       "yellow      3\n",
       "milk        2\n",
       "maroon      2\n",
       "orange      1\n",
       "beige       1\n",
       "Name: paint, dtype: int64"
      ]
     },
     "execution_count": 111,
     "metadata": {},
     "output_type": "execute_result"
    }
   ],
   "source": [
    "train['paint'].value_counts()"
   ]
  },
  {
   "cell_type": "code",
   "execution_count": 112,
   "metadata": {
    "ExecuteTime": {
     "end_time": "2022-06-12T07:17:22.653910Z",
     "start_time": "2022-06-12T07:17:22.640848Z"
    }
   },
   "outputs": [],
   "source": [
    "train['location'] = train['location'].replace({'Lagos ' : 'Lagos',\n",
    "                                           'Lagos State' : 'Lagos',\n",
    "                                           'Abuja ' : 'Abuja',\n",
    "                                           'Abia State' : 'Abia',\n",
    "                                           'Ogun State' : 'Ogun'})"
   ]
  },
  {
   "cell_type": "code",
   "execution_count": 113,
   "metadata": {
    "ExecuteTime": {
     "end_time": "2022-06-12T07:17:24.547017Z",
     "start_time": "2022-06-12T07:17:22.655889Z"
    }
   },
   "outputs": [
    {
     "data": {
      "image/png": "[encoded data removed]",
      "text/plain": [
       "<Figure size 1800x1080 with 8 Axes>"
      ]
     },
     "metadata": {},
     "output_type": "display_data"
    }
   ],
   "source": [
    "plt.style.use(\"ggplot\")\n",
    "\n",
    "plt.figure(figsize=(25,15))\n",
    "count = 1\n",
    "\n",
    "for i in train.describe(include=\"object\").columns:\n",
    "    plt.subplot(4,2,count)\n",
    "\n",
    "    sns.countplot(data=train, x=i)\n",
    "    count += 1"
   ]
  },
  {
   "cell_type": "code",
   "execution_count": 114,
   "metadata": {
    "ExecuteTime": {
     "end_time": "2022-06-12T07:17:24.939004Z",
     "start_time": "2022-06-12T07:17:24.548015Z"
    }
   },
   "outputs": [
    {
     "data": {
      "image/png": "[encoded data removed]",
      "text/plain": [
       "<Figure size 720x360 with 1 Axes>"
      ]
     },
     "metadata": {},
     "output_type": "display_data"
    }
   ],
   "source": [
    "plt.figure(figsize = (10, 5))\n",
    "sns.barplot(y = 'location', x = 'target', data = train,\n",
    "            estimator = np.median)\n",
    "plt.show()"
   ]
  },
  {
   "cell_type": "code",
   "execution_count": 115,
   "metadata": {
    "ExecuteTime": {
     "end_time": "2022-06-12T07:17:26.205206Z",
     "start_time": "2022-06-12T07:17:24.941023Z"
    }
   },
   "outputs": [
    {
     "data": {
      "text/plain": [
       "<AxesSubplot:xlabel='target', ylabel='maker'>"
      ]
     },
     "execution_count": 115,
     "metadata": {},
     "output_type": "execute_result"
    },
    {
     "data": {
      "image/png": "[encoded data removed]",
      "text/plain": [
       "<Figure size 720x576 with 1 Axes>"
      ]
     },
     "metadata": {},
     "output_type": "display_data"
    }
   ],
   "source": [
    "plt.figure(figsize = (10, 8))\n",
    "sns.barplot(y = 'maker', x = 'target', data = train)"
   ]
  },
  {
   "cell_type": "code",
   "execution_count": 116,
   "metadata": {
    "ExecuteTime": {
     "end_time": "2022-06-12T07:17:27.080201Z",
     "start_time": "2022-06-12T07:17:26.206204Z"
    }
   },
   "outputs": [
    {
     "data": {
      "image/png": "[encoded data removed]",
      "text/plain": [
       "<Figure size 720x720 with 1 Axes>"
      ]
     },
     "metadata": {},
     "output_type": "display_data"
    }
   ],
   "source": [
    "plt.figure(figsize = (10, 10))\n",
    "sns.barplot(y = 'paint', x = 'target', data = train,\n",
    "            estimator = np.median)\n",
    "plt.show()"
   ]
  },
  {
   "cell_type": "code",
   "execution_count": 117,
   "metadata": {
    "ExecuteTime": {
     "end_time": "2022-06-12T07:17:28.718844Z",
     "start_time": "2022-06-12T07:17:27.082121Z"
    }
   },
   "outputs": [
    {
     "data": {
      "image/png": "[encoded data removed]",
      "text/plain": [
       "<Figure size 720x360 with 1 Axes>"
      ]
     },
     "metadata": {},
     "output_type": "display_data"
    }
   ],
   "source": [
    "plt.figure(figsize = (10, 5))\n",
    "sns.barplot(y = 'maker', x = 'target', data = train,\n",
    "            estimator = np.median)\n",
    "plt.show()"
   ]
  },
  {
   "cell_type": "code",
   "execution_count": 118,
   "metadata": {
    "ExecuteTime": {
     "end_time": "2022-06-12T07:17:28.976943Z",
     "start_time": "2022-06-12T07:17:28.720751Z"
    }
   },
   "outputs": [
    {
     "data": {
      "image/png": "[encoded data removed]",
      "text/plain": [
       "<Figure size 720x576 with 1 Axes>"
      ]
     },
     "metadata": {},
     "output_type": "display_data"
    }
   ],
   "source": [
    "plt.figure(figsize = (10, 8))\n",
    "sns.barplot(x = 'isimported', y = 'target', data = train,\n",
    "            estimator = np.median)\n",
    "plt.show()"
   ]
  },
  {
   "cell_type": "code",
   "execution_count": 119,
   "metadata": {
    "ExecuteTime": {
     "end_time": "2022-06-12T07:17:29.441718Z",
     "start_time": "2022-06-12T07:17:28.978938Z"
    }
   },
   "outputs": [
    {
     "data": {
      "image/png": "[encoded data removed]",
      "text/plain": [
       "<Figure size 720x576 with 1 Axes>"
      ]
     },
     "metadata": {},
     "output_type": "display_data"
    }
   ],
   "source": [
    "plt.figure(figsize = (10, 8))\n",
    "sns.barplot(x = 'engine', y = 'target', data = train,\n",
    "            estimator = np.median)\n",
    "plt.show()"
   ]
  },
  {
   "cell_type": "markdown",
   "metadata": {},
   "source": [
    "- title과 brand에서 Toyota가 압도적으로 많다는 것을 확인할 수 있다.  \n",
    "- location에서 Lagos 지역이 압도적으로 많다는 것을 확인할 수 있다.\n",
    "- isimported에서 0(New) 차는 적고, 1(Foreign Used)>2(Locally used)>0(New) 순으로 이루어진 것을 확인할 수 있다.  \n",
    "- engine에서 4-cylinder가 압도적으로 많다는 것을 확인할 수 있다.  \n",
    "- trainsmission에서 automatic가 압도적으로 많다는 것을 확인할 수 있다.  \n",
    "- fuel에서 petrol가 압도적으로 많다는 것을 확인할 수 있다.  \n",
    "- paint에서 black>grey>white>sliver>red>gold .. 순으로 이루어진 것을 확인할 수 있다."
   ]
  },
  {
   "cell_type": "markdown",
   "metadata": {},
   "source": [
    "## 비싼 차량의 가격"
   ]
  },
  {
   "cell_type": "code",
   "execution_count": 120,
   "metadata": {
    "ExecuteTime": {
     "end_time": "2022-06-12T07:17:29.457153Z",
     "start_time": "2022-06-12T07:17:29.443716Z"
    }
   },
   "outputs": [],
   "source": [
    "train['rank'] = train['target'].rank(ascending = False)\n",
    "train['rank'] = train['rank'].astype(int)"
   ]
  },
  {
   "cell_type": "code",
   "execution_count": 121,
   "metadata": {
    "ExecuteTime": {
     "end_time": "2022-06-12T07:17:29.487051Z",
     "start_time": "2022-06-12T07:17:29.459973Z"
    }
   },
   "outputs": [
    {
     "data": {
      "text/html": [
       "<div>\n",
       "<style scoped>\n",
       "    .dataframe tbody tr th:only-of-type {\n",
       "        vertical-align: middle;\n",
       "    }\n",
       "\n",
       "    .dataframe tbody tr th {\n",
       "        vertical-align: top;\n",
       "    }\n",
       "\n",
       "    .dataframe thead th {\n",
       "        text-align: right;\n",
       "    }\n",
       "</style>\n",
       "<table border=\"1\" class=\"dataframe\">\n",
       "  <thead>\n",
       "    <tr style=\"text-align: right;\">\n",
       "      <th></th>\n",
       "      <th>odometer</th>\n",
       "      <th>location</th>\n",
       "      <th>isimported</th>\n",
       "      <th>engine</th>\n",
       "      <th>transmission</th>\n",
       "      <th>fuel</th>\n",
       "      <th>paint</th>\n",
       "      <th>year</th>\n",
       "      <th>target</th>\n",
       "      <th>maker</th>\n",
       "      <th>trans_fuel</th>\n",
       "      <th>logy</th>\n",
       "      <th>year_diff</th>\n",
       "      <th>rank</th>\n",
       "    </tr>\n",
       "    <tr>\n",
       "      <th>id</th>\n",
       "      <th></th>\n",
       "      <th></th>\n",
       "      <th></th>\n",
       "      <th></th>\n",
       "      <th></th>\n",
       "      <th></th>\n",
       "      <th></th>\n",
       "      <th></th>\n",
       "      <th></th>\n",
       "      <th></th>\n",
       "      <th></th>\n",
       "      <th></th>\n",
       "      <th></th>\n",
       "      <th></th>\n",
       "    </tr>\n",
       "  </thead>\n",
       "  <tbody>\n",
       "    <tr>\n",
       "      <th>597</th>\n",
       "      <td>16069</td>\n",
       "      <td>Lagos</td>\n",
       "      <td>2</td>\n",
       "      <td>4-cylinder(I4)</td>\n",
       "      <td>0</td>\n",
       "      <td>0</td>\n",
       "      <td>black</td>\n",
       "      <td>2011</td>\n",
       "      <td>150015008</td>\n",
       "      <td>Rolls-Royce</td>\n",
       "      <td>00</td>\n",
       "      <td>18.826246</td>\n",
       "      <td>9</td>\n",
       "      <td>1</td>\n",
       "    </tr>\n",
       "  </tbody>\n",
       "</table>\n",
       "</div>"
      ],
      "text/plain": [
       "     odometer location isimported          engine transmission fuel  paint  \\\n",
       "id                                                                           \n",
       "597     16069    Lagos          2  4-cylinder(I4)            0    0  black   \n",
       "\n",
       "     year     target        maker trans_fuel       logy  year_diff  rank  \n",
       "id                                                                        \n",
       "597  2011  150015008  Rolls-Royce         00  18.826246          9     1  "
      ]
     },
     "execution_count": 121,
     "metadata": {},
     "output_type": "execute_result"
    }
   ],
   "source": [
    "train[train['maker'] == 'Rolls-Royce']"
   ]
  },
  {
   "cell_type": "code",
   "execution_count": 122,
   "metadata": {
    "ExecuteTime": {
     "end_time": "2022-06-12T07:17:29.516955Z",
     "start_time": "2022-06-12T07:17:29.488952Z"
    }
   },
   "outputs": [
    {
     "data": {
      "text/html": [
       "<div>\n",
       "<style scoped>\n",
       "    .dataframe tbody tr th:only-of-type {\n",
       "        vertical-align: middle;\n",
       "    }\n",
       "\n",
       "    .dataframe tbody tr th {\n",
       "        vertical-align: top;\n",
       "    }\n",
       "\n",
       "    .dataframe thead th {\n",
       "        text-align: right;\n",
       "    }\n",
       "</style>\n",
       "<table border=\"1\" class=\"dataframe\">\n",
       "  <thead>\n",
       "    <tr style=\"text-align: right;\">\n",
       "      <th></th>\n",
       "      <th>odometer</th>\n",
       "      <th>location</th>\n",
       "      <th>isimported</th>\n",
       "      <th>engine</th>\n",
       "      <th>transmission</th>\n",
       "      <th>fuel</th>\n",
       "      <th>paint</th>\n",
       "      <th>year</th>\n",
       "      <th>target</th>\n",
       "      <th>maker</th>\n",
       "      <th>trans_fuel</th>\n",
       "      <th>logy</th>\n",
       "      <th>year_diff</th>\n",
       "      <th>rank</th>\n",
       "    </tr>\n",
       "    <tr>\n",
       "      <th>id</th>\n",
       "      <th></th>\n",
       "      <th></th>\n",
       "      <th></th>\n",
       "      <th></th>\n",
       "      <th></th>\n",
       "      <th></th>\n",
       "      <th></th>\n",
       "      <th></th>\n",
       "      <th></th>\n",
       "      <th></th>\n",
       "      <th></th>\n",
       "      <th></th>\n",
       "      <th></th>\n",
       "      <th></th>\n",
       "    </tr>\n",
       "  </thead>\n",
       "  <tbody>\n",
       "    <tr>\n",
       "      <th>597</th>\n",
       "      <td>16069</td>\n",
       "      <td>Lagos</td>\n",
       "      <td>2</td>\n",
       "      <td>4-cylinder(I4)</td>\n",
       "      <td>0</td>\n",
       "      <td>0</td>\n",
       "      <td>black</td>\n",
       "      <td>2011</td>\n",
       "      <td>150015008</td>\n",
       "      <td>Rolls-Royce</td>\n",
       "      <td>00</td>\n",
       "      <td>18.826246</td>\n",
       "      <td>9</td>\n",
       "      <td>1</td>\n",
       "    </tr>\n",
       "    <tr>\n",
       "      <th>341</th>\n",
       "      <td>18720</td>\n",
       "      <td>Lagos</td>\n",
       "      <td>1</td>\n",
       "      <td>8-cylinder(V8)</td>\n",
       "      <td>0</td>\n",
       "      <td>0</td>\n",
       "      <td>grey</td>\n",
       "      <td>2019</td>\n",
       "      <td>117015000</td>\n",
       "      <td>LandRover</td>\n",
       "      <td>00</td>\n",
       "      <td>18.577813</td>\n",
       "      <td>1</td>\n",
       "      <td>2</td>\n",
       "    </tr>\n",
       "    <tr>\n",
       "      <th>569</th>\n",
       "      <td>55530</td>\n",
       "      <td>Abuja</td>\n",
       "      <td>1</td>\n",
       "      <td>8-cylinder(V8)</td>\n",
       "      <td>0</td>\n",
       "      <td>0</td>\n",
       "      <td>black</td>\n",
       "      <td>2014</td>\n",
       "      <td>110015000</td>\n",
       "      <td>Lexus</td>\n",
       "      <td>00</td>\n",
       "      <td>18.516127</td>\n",
       "      <td>6</td>\n",
       "      <td>3</td>\n",
       "    </tr>\n",
       "    <tr>\n",
       "      <th>736</th>\n",
       "      <td>20</td>\n",
       "      <td>Lagos</td>\n",
       "      <td>0</td>\n",
       "      <td>8-cylinder(V8)</td>\n",
       "      <td>0</td>\n",
       "      <td>0</td>\n",
       "      <td>black</td>\n",
       "      <td>2019</td>\n",
       "      <td>108690000</td>\n",
       "      <td>Mercedes-Benz</td>\n",
       "      <td>00</td>\n",
       "      <td>18.504010</td>\n",
       "      <td>1</td>\n",
       "      <td>4</td>\n",
       "    </tr>\n",
       "    <tr>\n",
       "      <th>672</th>\n",
       "      <td>1931</td>\n",
       "      <td>Abuja</td>\n",
       "      <td>0</td>\n",
       "      <td>8-cylinder(V8)</td>\n",
       "      <td>0</td>\n",
       "      <td>0</td>\n",
       "      <td>blue</td>\n",
       "      <td>2019</td>\n",
       "      <td>75015000</td>\n",
       "      <td>Lexus</td>\n",
       "      <td>00</td>\n",
       "      <td>18.133199</td>\n",
       "      <td>1</td>\n",
       "      <td>5</td>\n",
       "    </tr>\n",
       "    <tr>\n",
       "      <th>332</th>\n",
       "      <td>90</td>\n",
       "      <td>Lagos</td>\n",
       "      <td>1</td>\n",
       "      <td>8-cylinder(V8)</td>\n",
       "      <td>0</td>\n",
       "      <td>0</td>\n",
       "      <td>black</td>\n",
       "      <td>2019</td>\n",
       "      <td>68265000</td>\n",
       "      <td>Mercedes-Benz</td>\n",
       "      <td>00</td>\n",
       "      <td>18.038908</td>\n",
       "      <td>1</td>\n",
       "      <td>6</td>\n",
       "    </tr>\n",
       "    <tr>\n",
       "      <th>432</th>\n",
       "      <td>467</td>\n",
       "      <td>Lagos</td>\n",
       "      <td>0</td>\n",
       "      <td>4-cylinder(I4)</td>\n",
       "      <td>0</td>\n",
       "      <td>0</td>\n",
       "      <td>black</td>\n",
       "      <td>2020</td>\n",
       "      <td>68265000</td>\n",
       "      <td>BMW</td>\n",
       "      <td>00</td>\n",
       "      <td>18.038908</td>\n",
       "      <td>0</td>\n",
       "      <td>6</td>\n",
       "    </tr>\n",
       "    <tr>\n",
       "      <th>423</th>\n",
       "      <td>47</td>\n",
       "      <td>Lagos</td>\n",
       "      <td>0</td>\n",
       "      <td>4-cylinder(I4)</td>\n",
       "      <td>0</td>\n",
       "      <td>0</td>\n",
       "      <td>black</td>\n",
       "      <td>2020</td>\n",
       "      <td>65015000</td>\n",
       "      <td>Toyota</td>\n",
       "      <td>00</td>\n",
       "      <td>17.990129</td>\n",
       "      <td>0</td>\n",
       "      <td>8</td>\n",
       "    </tr>\n",
       "    <tr>\n",
       "      <th>774</th>\n",
       "      <td>18297</td>\n",
       "      <td>Lagos</td>\n",
       "      <td>1</td>\n",
       "      <td>8-cylinder(V8)</td>\n",
       "      <td>0</td>\n",
       "      <td>0</td>\n",
       "      <td>black</td>\n",
       "      <td>2016</td>\n",
       "      <td>62015000</td>\n",
       "      <td>Mercedes-Benz</td>\n",
       "      <td>00</td>\n",
       "      <td>17.942887</td>\n",
       "      <td>4</td>\n",
       "      <td>9</td>\n",
       "    </tr>\n",
       "    <tr>\n",
       "      <th>550</th>\n",
       "      <td>34936</td>\n",
       "      <td>Lagos</td>\n",
       "      <td>1</td>\n",
       "      <td>8-cylinder(V8)</td>\n",
       "      <td>0</td>\n",
       "      <td>0</td>\n",
       "      <td>white</td>\n",
       "      <td>2015</td>\n",
       "      <td>57015000</td>\n",
       "      <td>Mercedes-Benz</td>\n",
       "      <td>00</td>\n",
       "      <td>17.858825</td>\n",
       "      <td>5</td>\n",
       "      <td>10</td>\n",
       "    </tr>\n",
       "    <tr>\n",
       "      <th>216</th>\n",
       "      <td>693</td>\n",
       "      <td>Lagos</td>\n",
       "      <td>0</td>\n",
       "      <td>4-cylinder(I4)</td>\n",
       "      <td>0</td>\n",
       "      <td>0</td>\n",
       "      <td>blue</td>\n",
       "      <td>2020</td>\n",
       "      <td>56515000</td>\n",
       "      <td>Mercedes-Benz</td>\n",
       "      <td>00</td>\n",
       "      <td>17.850017</td>\n",
       "      <td>0</td>\n",
       "      <td>11</td>\n",
       "    </tr>\n",
       "    <tr>\n",
       "      <th>265</th>\n",
       "      <td>8801</td>\n",
       "      <td>Lagos</td>\n",
       "      <td>1</td>\n",
       "      <td>8-cylinder(V8)</td>\n",
       "      <td>0</td>\n",
       "      <td>0</td>\n",
       "      <td>black</td>\n",
       "      <td>2018</td>\n",
       "      <td>54615000</td>\n",
       "      <td>Lexus</td>\n",
       "      <td>00</td>\n",
       "      <td>17.815819</td>\n",
       "      <td>2</td>\n",
       "      <td>12</td>\n",
       "    </tr>\n",
       "    <tr>\n",
       "      <th>92</th>\n",
       "      <td>13247</td>\n",
       "      <td>Lagos</td>\n",
       "      <td>1</td>\n",
       "      <td>8-cylinder(V8)</td>\n",
       "      <td>0</td>\n",
       "      <td>0</td>\n",
       "      <td>black</td>\n",
       "      <td>2018</td>\n",
       "      <td>52515000</td>\n",
       "      <td>Lexus</td>\n",
       "      <td>00</td>\n",
       "      <td>17.776609</td>\n",
       "      <td>2</td>\n",
       "      <td>13</td>\n",
       "    </tr>\n",
       "    <tr>\n",
       "      <th>762</th>\n",
       "      <td>52</td>\n",
       "      <td>Lagos</td>\n",
       "      <td>0</td>\n",
       "      <td>4-cylinder(I4)</td>\n",
       "      <td>0</td>\n",
       "      <td>0</td>\n",
       "      <td>black</td>\n",
       "      <td>2020</td>\n",
       "      <td>52015000</td>\n",
       "      <td>Toyota</td>\n",
       "      <td>00</td>\n",
       "      <td>17.767043</td>\n",
       "      <td>0</td>\n",
       "      <td>14</td>\n",
       "    </tr>\n",
       "    <tr>\n",
       "      <th>804</th>\n",
       "      <td>20</td>\n",
       "      <td>Lagos</td>\n",
       "      <td>0</td>\n",
       "      <td>6-cylinder(V6)</td>\n",
       "      <td>0</td>\n",
       "      <td>0</td>\n",
       "      <td>black</td>\n",
       "      <td>2020</td>\n",
       "      <td>51040000</td>\n",
       "      <td>Lexus</td>\n",
       "      <td>00</td>\n",
       "      <td>17.748120</td>\n",
       "      <td>0</td>\n",
       "      <td>15</td>\n",
       "    </tr>\n",
       "    <tr>\n",
       "      <th>377</th>\n",
       "      <td>16</td>\n",
       "      <td>Lagos</td>\n",
       "      <td>1</td>\n",
       "      <td>4-cylinder(I4)</td>\n",
       "      <td>0</td>\n",
       "      <td>0</td>\n",
       "      <td>black</td>\n",
       "      <td>2014</td>\n",
       "      <td>50415000</td>\n",
       "      <td>Toyota</td>\n",
       "      <td>00</td>\n",
       "      <td>17.735799</td>\n",
       "      <td>6</td>\n",
       "      <td>16</td>\n",
       "    </tr>\n",
       "    <tr>\n",
       "      <th>481</th>\n",
       "      <td>20921</td>\n",
       "      <td>Lagos</td>\n",
       "      <td>1</td>\n",
       "      <td>4-cylinder(I4)</td>\n",
       "      <td>0</td>\n",
       "      <td>0</td>\n",
       "      <td>black</td>\n",
       "      <td>2018</td>\n",
       "      <td>50415000</td>\n",
       "      <td>Lexus</td>\n",
       "      <td>00</td>\n",
       "      <td>17.735799</td>\n",
       "      <td>2</td>\n",
       "      <td>16</td>\n",
       "    </tr>\n",
       "  </tbody>\n",
       "</table>\n",
       "</div>"
      ],
      "text/plain": [
       "     odometer location isimported          engine transmission fuel  paint  \\\n",
       "id                                                                           \n",
       "597     16069    Lagos          2  4-cylinder(I4)            0    0  black   \n",
       "341     18720    Lagos          1  8-cylinder(V8)            0    0   grey   \n",
       "569     55530    Abuja          1  8-cylinder(V8)            0    0  black   \n",
       "736        20    Lagos          0  8-cylinder(V8)            0    0  black   \n",
       "672      1931    Abuja          0  8-cylinder(V8)            0    0   blue   \n",
       "332        90    Lagos          1  8-cylinder(V8)            0    0  black   \n",
       "432       467    Lagos          0  4-cylinder(I4)            0    0  black   \n",
       "423        47    Lagos          0  4-cylinder(I4)            0    0  black   \n",
       "774     18297    Lagos          1  8-cylinder(V8)            0    0  black   \n",
       "550     34936    Lagos          1  8-cylinder(V8)            0    0  white   \n",
       "216       693    Lagos          0  4-cylinder(I4)            0    0   blue   \n",
       "265      8801    Lagos          1  8-cylinder(V8)            0    0  black   \n",
       "92      13247    Lagos          1  8-cylinder(V8)            0    0  black   \n",
       "762        52    Lagos          0  4-cylinder(I4)            0    0  black   \n",
       "804        20    Lagos          0  6-cylinder(V6)            0    0  black   \n",
       "377        16    Lagos          1  4-cylinder(I4)            0    0  black   \n",
       "481     20921    Lagos          1  4-cylinder(I4)            0    0  black   \n",
       "\n",
       "     year     target          maker trans_fuel       logy  year_diff  rank  \n",
       "id                                                                          \n",
       "597  2011  150015008    Rolls-Royce         00  18.826246          9     1  \n",
       "341  2019  117015000      LandRover         00  18.577813          1     2  \n",
       "569  2014  110015000          Lexus         00  18.516127          6     3  \n",
       "736  2019  108690000  Mercedes-Benz         00  18.504010          1     4  \n",
       "672  2019   75015000          Lexus         00  18.133199          1     5  \n",
       "332  2019   68265000  Mercedes-Benz         00  18.038908          1     6  \n",
       "432  2020   68265000            BMW         00  18.038908          0     6  \n",
       "423  2020   65015000         Toyota         00  17.990129          0     8  \n",
       "774  2016   62015000  Mercedes-Benz         00  17.942887          4     9  \n",
       "550  2015   57015000  Mercedes-Benz         00  17.858825          5    10  \n",
       "216  2020   56515000  Mercedes-Benz         00  17.850017          0    11  \n",
       "265  2018   54615000          Lexus         00  17.815819          2    12  \n",
       "92   2018   52515000          Lexus         00  17.776609          2    13  \n",
       "762  2020   52015000         Toyota         00  17.767043          0    14  \n",
       "804  2020   51040000          Lexus         00  17.748120          0    15  \n",
       "377  2014   50415000         Toyota         00  17.735799          6    16  \n",
       "481  2018   50415000          Lexus         00  17.735799          2    16  "
      ]
     },
     "execution_count": 122,
     "metadata": {},
     "output_type": "execute_result"
    }
   ],
   "source": [
    "train[train['rank'] < 20].sort_values(by = 'target', ascending = False)"
   ]
  },
  {
   "cell_type": "code",
   "execution_count": 123,
   "metadata": {
    "ExecuteTime": {
     "end_time": "2022-06-12T07:17:29.531979Z",
     "start_time": "2022-06-12T07:17:29.517894Z"
    }
   },
   "outputs": [
    {
     "data": {
      "text/plain": [
       "0.10957551826258638"
      ]
     },
     "execution_count": 123,
     "metadata": {},
     "output_type": "execute_result"
    }
   ],
   "source": [
    "len(train[train['odometer']<20000])/len(train)"
   ]
  },
  {
   "cell_type": "code",
   "execution_count": 124,
   "metadata": {
    "ExecuteTime": {
     "end_time": "2022-06-12T07:17:29.547817Z",
     "start_time": "2022-06-12T07:17:29.533851Z"
    }
   },
   "outputs": [],
   "source": [
    "train['low_distance'] = [1 if s < 20000 else 0 for s in train['odometer']]"
   ]
  },
  {
   "cell_type": "code",
   "execution_count": 125,
   "metadata": {
    "ExecuteTime": {
     "end_time": "2022-06-12T07:17:29.744767Z",
     "start_time": "2022-06-12T07:17:29.553803Z"
    }
   },
   "outputs": [
    {
     "data": {
      "text/plain": [
       "<AxesSubplot:xlabel='low_distance', ylabel='target'>"
      ]
     },
     "execution_count": 125,
     "metadata": {},
     "output_type": "execute_result"
    },
    {
     "data": {
      "image/png": "[encoded data removed]",
      "text/plain": [
       "<Figure size 432x288 with 1 Axes>"
      ]
     },
     "metadata": {},
     "output_type": "display_data"
    }
   ],
   "source": [
    "sns.barplot(x = 'low_distance', y = 'target', data = train)"
   ]
  },
  {
   "cell_type": "code",
   "execution_count": 126,
   "metadata": {
    "ExecuteTime": {
     "end_time": "2022-06-12T07:17:30.423952Z",
     "start_time": "2022-06-12T07:17:29.746565Z"
    }
   },
   "outputs": [],
   "source": [
    "train['pop_maker'] = [1 if s in train[train['rank'] < 20]['maker'].unique() else 0 for s in train['maker']]"
   ]
  },
  {
   "cell_type": "code",
   "execution_count": 127,
   "metadata": {
    "ExecuteTime": {
     "end_time": "2022-06-12T07:17:30.590000Z",
     "start_time": "2022-06-12T07:17:30.424851Z"
    }
   },
   "outputs": [
    {
     "data": {
      "text/plain": [
       "<AxesSubplot:xlabel='pop_maker', ylabel='target'>"
      ]
     },
     "execution_count": 127,
     "metadata": {},
     "output_type": "execute_result"
    },
    {
     "data": {
      "image/png": "[encoded data removed]",
      "text/plain": [
       "<Figure size 432x288 with 1 Axes>"
      ]
     },
     "metadata": {},
     "output_type": "display_data"
    }
   ],
   "source": [
    "sns.barplot(x = 'pop_maker', y = 'target', data = train)"
   ]
  },
  {
   "cell_type": "code",
   "execution_count": 128,
   "metadata": {
    "ExecuteTime": {
     "end_time": "2022-06-12T07:17:30.605021Z",
     "start_time": "2022-06-12T07:17:30.592012Z"
    }
   },
   "outputs": [],
   "source": [
    "train['less3y'] = [1 if s < 3 else 0 for s in train['year_diff']]"
   ]
  },
  {
   "cell_type": "code",
   "execution_count": 129,
   "metadata": {
    "ExecuteTime": {
     "end_time": "2022-06-12T07:17:30.802251Z",
     "start_time": "2022-06-12T07:17:30.605937Z"
    }
   },
   "outputs": [
    {
     "data": {
      "text/plain": [
       "<AxesSubplot:xlabel='less3y', ylabel='target'>"
      ]
     },
     "execution_count": 129,
     "metadata": {},
     "output_type": "execute_result"
    },
    {
     "data": {
      "image/png": "[encoded data removed]",
      "text/plain": [
       "<Figure size 432x288 with 1 Axes>"
      ]
     },
     "metadata": {},
     "output_type": "display_data"
    }
   ],
   "source": [
    "sns.barplot(x = 'less3y', y = 'target', data = train)"
   ]
  },
  {
   "cell_type": "code",
   "execution_count": 131,
   "metadata": {
    "ExecuteTime": {
     "end_time": "2022-06-12T07:19:02.372006Z",
     "start_time": "2022-06-12T07:19:02.182173Z"
    }
   },
   "outputs": [
    {
     "data": {
      "text/plain": [
       "<AxesSubplot:xlabel='pop_color', ylabel='target'>"
      ]
     },
     "execution_count": 131,
     "metadata": {},
     "output_type": "execute_result"
    },
    {
     "data": {
      "image/png": "[encoded data removed]",
      "text/plain": [
       "<Figure size 432x288 with 1 Axes>"
      ]
     },
     "metadata": {},
     "output_type": "display_data"
    }
   ],
   "source": [
    "train['pop_color'] = [1 if ('white' in s or 'black' in s or 'blue' in s) else 0 for s in train['paint']]\n",
    "sns.barplot(x = 'pop_color', y = 'target', data = train)"
   ]
  },
  {
   "cell_type": "code",
   "execution_count": 132,
   "metadata": {
    "ExecuteTime": {
     "end_time": "2022-06-12T07:19:12.308136Z",
     "start_time": "2022-06-12T07:19:12.133066Z"
    }
   },
   "outputs": [
    {
     "data": {
      "text/plain": [
       "<AxesSubplot:xlabel='loc_lagos', ylabel='target'>"
      ]
     },
     "execution_count": 132,
     "metadata": {},
     "output_type": "execute_result"
    },
    {
     "data": {
      "image/png": "[encoded data removed]",
      "text/plain": [
       "<Figure size 432x288 with 1 Axes>"
      ]
     },
     "metadata": {},
     "output_type": "display_data"
    }
   ],
   "source": [
    "train['loc_lagos'] = [1 if s == 'Lagos' else 0 for s in train['location']]\n",
    "sns.barplot(x = 'loc_lagos', y = 'target', data = train)"
   ]
  },
  {
   "cell_type": "code",
   "execution_count": 133,
   "metadata": {
    "ExecuteTime": {
     "end_time": "2022-06-12T07:19:25.490684Z",
     "start_time": "2022-06-12T07:19:25.303674Z"
    }
   },
   "outputs": [
    {
     "data": {
      "text/plain": [
       "<AxesSubplot:xlabel='thisyear', ylabel='target'>"
      ]
     },
     "execution_count": 133,
     "metadata": {},
     "output_type": "execute_result"
    },
    {
     "data": {
      "image/png": "[encoded data removed]",
      "text/plain": [
       "<Figure size 432x288 with 1 Axes>"
      ]
     },
     "metadata": {},
     "output_type": "display_data"
    }
   ],
   "source": [
    "train['thisyear'] = [1 if s == 2020 else 0 for s in train['year']]\n",
    "sns.barplot(x = 'thisyear', y = 'target', data = train)"
   ]
  },
  {
   "cell_type": "markdown",
   "metadata": {},
   "source": [
    "## 200000000 이상"
   ]
  },
  {
   "cell_type": "code",
   "execution_count": 134,
   "metadata": {
    "ExecuteTime": {
     "end_time": "2022-06-12T07:20:10.015904Z",
     "start_time": "2022-06-12T07:20:10.009918Z"
    }
   },
   "outputs": [],
   "source": [
    "train['over20m'] = [1 if s >= 20000000 else 0 for s in train['target']]"
   ]
  },
  {
   "cell_type": "code",
   "execution_count": 135,
   "metadata": {
    "ExecuteTime": {
     "end_time": "2022-06-12T07:20:11.043851Z",
     "start_time": "2022-06-12T07:20:10.996007Z"
    }
   },
   "outputs": [
    {
     "data": {
      "text/html": [
       "<div>\n",
       "<style scoped>\n",
       "    .dataframe tbody tr th:only-of-type {\n",
       "        vertical-align: middle;\n",
       "    }\n",
       "\n",
       "    .dataframe tbody tr th {\n",
       "        vertical-align: top;\n",
       "    }\n",
       "\n",
       "    .dataframe thead th {\n",
       "        text-align: right;\n",
       "    }\n",
       "</style>\n",
       "<table border=\"1\" class=\"dataframe\">\n",
       "  <thead>\n",
       "    <tr style=\"text-align: right;\">\n",
       "      <th></th>\n",
       "      <th>odometer</th>\n",
       "      <th>location</th>\n",
       "      <th>isimported</th>\n",
       "      <th>engine</th>\n",
       "      <th>transmission</th>\n",
       "      <th>fuel</th>\n",
       "      <th>paint</th>\n",
       "      <th>year</th>\n",
       "      <th>target</th>\n",
       "      <th>maker</th>\n",
       "      <th>...</th>\n",
       "      <th>logy</th>\n",
       "      <th>year_diff</th>\n",
       "      <th>rank</th>\n",
       "      <th>low_distance</th>\n",
       "      <th>pop_maker</th>\n",
       "      <th>less3y</th>\n",
       "      <th>pop_color</th>\n",
       "      <th>loc_lagos</th>\n",
       "      <th>thisyear</th>\n",
       "      <th>over20m</th>\n",
       "    </tr>\n",
       "    <tr>\n",
       "      <th>id</th>\n",
       "      <th></th>\n",
       "      <th></th>\n",
       "      <th></th>\n",
       "      <th></th>\n",
       "      <th></th>\n",
       "      <th></th>\n",
       "      <th></th>\n",
       "      <th></th>\n",
       "      <th></th>\n",
       "      <th></th>\n",
       "      <th></th>\n",
       "      <th></th>\n",
       "      <th></th>\n",
       "      <th></th>\n",
       "      <th></th>\n",
       "      <th></th>\n",
       "      <th></th>\n",
       "      <th></th>\n",
       "      <th></th>\n",
       "      <th></th>\n",
       "      <th></th>\n",
       "    </tr>\n",
       "  </thead>\n",
       "  <tbody>\n",
       "    <tr>\n",
       "      <th>1</th>\n",
       "      <td>10</td>\n",
       "      <td>Lagos</td>\n",
       "      <td>0</td>\n",
       "      <td>4-cylinder(I4)</td>\n",
       "      <td>0</td>\n",
       "      <td>0</td>\n",
       "      <td>black</td>\n",
       "      <td>2019</td>\n",
       "      <td>33015000</td>\n",
       "      <td>Toyota</td>\n",
       "      <td>...</td>\n",
       "      <td>17.312473</td>\n",
       "      <td>1</td>\n",
       "      <td>41</td>\n",
       "      <td>1</td>\n",
       "      <td>1</td>\n",
       "      <td>1</td>\n",
       "      <td>1</td>\n",
       "      <td>1</td>\n",
       "      <td>0</td>\n",
       "      <td>1</td>\n",
       "    </tr>\n",
       "    <tr>\n",
       "      <th>9</th>\n",
       "      <td>27429</td>\n",
       "      <td>Lagos</td>\n",
       "      <td>1</td>\n",
       "      <td>6-cylinder(I6)</td>\n",
       "      <td>0</td>\n",
       "      <td>0</td>\n",
       "      <td>blue</td>\n",
       "      <td>2018</td>\n",
       "      <td>23115000</td>\n",
       "      <td>Lexus</td>\n",
       "      <td>...</td>\n",
       "      <td>16.955992</td>\n",
       "      <td>2</td>\n",
       "      <td>61</td>\n",
       "      <td>0</td>\n",
       "      <td>1</td>\n",
       "      <td>1</td>\n",
       "      <td>1</td>\n",
       "      <td>1</td>\n",
       "      <td>0</td>\n",
       "      <td>1</td>\n",
       "    </tr>\n",
       "    <tr>\n",
       "      <th>49</th>\n",
       "      <td>32646</td>\n",
       "      <td>Lagos</td>\n",
       "      <td>1</td>\n",
       "      <td>6-cylinder(I6)</td>\n",
       "      <td>0</td>\n",
       "      <td>0</td>\n",
       "      <td>white</td>\n",
       "      <td>2014</td>\n",
       "      <td>24015000</td>\n",
       "      <td>LandRover</td>\n",
       "      <td>...</td>\n",
       "      <td>16.994189</td>\n",
       "      <td>6</td>\n",
       "      <td>57</td>\n",
       "      <td>0</td>\n",
       "      <td>1</td>\n",
       "      <td>0</td>\n",
       "      <td>1</td>\n",
       "      <td>1</td>\n",
       "      <td>0</td>\n",
       "      <td>1</td>\n",
       "    </tr>\n",
       "    <tr>\n",
       "      <th>75</th>\n",
       "      <td>23568</td>\n",
       "      <td>Lagos</td>\n",
       "      <td>1</td>\n",
       "      <td>4-cylinder(I4)</td>\n",
       "      <td>0</td>\n",
       "      <td>0</td>\n",
       "      <td>black</td>\n",
       "      <td>2018</td>\n",
       "      <td>48015000</td>\n",
       "      <td>Lexus</td>\n",
       "      <td>...</td>\n",
       "      <td>17.687024</td>\n",
       "      <td>2</td>\n",
       "      <td>25</td>\n",
       "      <td>0</td>\n",
       "      <td>1</td>\n",
       "      <td>1</td>\n",
       "      <td>1</td>\n",
       "      <td>1</td>\n",
       "      <td>0</td>\n",
       "      <td>1</td>\n",
       "    </tr>\n",
       "    <tr>\n",
       "      <th>90</th>\n",
       "      <td>77805</td>\n",
       "      <td>Lagos</td>\n",
       "      <td>1</td>\n",
       "      <td>4-cylinder(I4)</td>\n",
       "      <td>0</td>\n",
       "      <td>0</td>\n",
       "      <td>black</td>\n",
       "      <td>2016</td>\n",
       "      <td>29015000</td>\n",
       "      <td>LandRover</td>\n",
       "      <td>...</td>\n",
       "      <td>17.183323</td>\n",
       "      <td>4</td>\n",
       "      <td>47</td>\n",
       "      <td>0</td>\n",
       "      <td>1</td>\n",
       "      <td>0</td>\n",
       "      <td>1</td>\n",
       "      <td>1</td>\n",
       "      <td>0</td>\n",
       "      <td>1</td>\n",
       "    </tr>\n",
       "    <tr>\n",
       "      <th>...</th>\n",
       "      <td>...</td>\n",
       "      <td>...</td>\n",
       "      <td>...</td>\n",
       "      <td>...</td>\n",
       "      <td>...</td>\n",
       "      <td>...</td>\n",
       "      <td>...</td>\n",
       "      <td>...</td>\n",
       "      <td>...</td>\n",
       "      <td>...</td>\n",
       "      <td>...</td>\n",
       "      <td>...</td>\n",
       "      <td>...</td>\n",
       "      <td>...</td>\n",
       "      <td>...</td>\n",
       "      <td>...</td>\n",
       "      <td>...</td>\n",
       "      <td>...</td>\n",
       "      <td>...</td>\n",
       "      <td>...</td>\n",
       "      <td>...</td>\n",
       "    </tr>\n",
       "    <tr>\n",
       "      <th>945</th>\n",
       "      <td>56770</td>\n",
       "      <td>Lagos</td>\n",
       "      <td>1</td>\n",
       "      <td>6-cylinder(I6)</td>\n",
       "      <td>0</td>\n",
       "      <td>0</td>\n",
       "      <td>white</td>\n",
       "      <td>2018</td>\n",
       "      <td>49515000</td>\n",
       "      <td>Mercedes-Benz</td>\n",
       "      <td>...</td>\n",
       "      <td>17.717786</td>\n",
       "      <td>2</td>\n",
       "      <td>23</td>\n",
       "      <td>0</td>\n",
       "      <td>1</td>\n",
       "      <td>1</td>\n",
       "      <td>1</td>\n",
       "      <td>1</td>\n",
       "      <td>0</td>\n",
       "      <td>1</td>\n",
       "    </tr>\n",
       "    <tr>\n",
       "      <th>964</th>\n",
       "      <td>25141</td>\n",
       "      <td>Lagos</td>\n",
       "      <td>1</td>\n",
       "      <td>4-cylinder(I4)</td>\n",
       "      <td>0</td>\n",
       "      <td>0</td>\n",
       "      <td>blue</td>\n",
       "      <td>2018</td>\n",
       "      <td>50015000</td>\n",
       "      <td>Lexus</td>\n",
       "      <td>...</td>\n",
       "      <td>17.727834</td>\n",
       "      <td>2</td>\n",
       "      <td>20</td>\n",
       "      <td>0</td>\n",
       "      <td>1</td>\n",
       "      <td>1</td>\n",
       "      <td>1</td>\n",
       "      <td>1</td>\n",
       "      <td>0</td>\n",
       "      <td>1</td>\n",
       "    </tr>\n",
       "    <tr>\n",
       "      <th>989</th>\n",
       "      <td>69</td>\n",
       "      <td>Lagos</td>\n",
       "      <td>0</td>\n",
       "      <td>4-cylinder(I4)</td>\n",
       "      <td>0</td>\n",
       "      <td>0</td>\n",
       "      <td>grey</td>\n",
       "      <td>2020</td>\n",
       "      <td>47015000</td>\n",
       "      <td>Lexus</td>\n",
       "      <td>...</td>\n",
       "      <td>17.665977</td>\n",
       "      <td>0</td>\n",
       "      <td>27</td>\n",
       "      <td>1</td>\n",
       "      <td>1</td>\n",
       "      <td>1</td>\n",
       "      <td>0</td>\n",
       "      <td>1</td>\n",
       "      <td>1</td>\n",
       "      <td>1</td>\n",
       "    </tr>\n",
       "    <tr>\n",
       "      <th>995</th>\n",
       "      <td>52485</td>\n",
       "      <td>Lagos</td>\n",
       "      <td>1</td>\n",
       "      <td>4-cylinder(I4)</td>\n",
       "      <td>0</td>\n",
       "      <td>0</td>\n",
       "      <td>black</td>\n",
       "      <td>2014</td>\n",
       "      <td>23015000</td>\n",
       "      <td>LandRover</td>\n",
       "      <td>...</td>\n",
       "      <td>16.951657</td>\n",
       "      <td>6</td>\n",
       "      <td>64</td>\n",
       "      <td>0</td>\n",
       "      <td>1</td>\n",
       "      <td>0</td>\n",
       "      <td>1</td>\n",
       "      <td>1</td>\n",
       "      <td>0</td>\n",
       "      <td>1</td>\n",
       "    </tr>\n",
       "    <tr>\n",
       "      <th>1009</th>\n",
       "      <td>809456</td>\n",
       "      <td>Lagos</td>\n",
       "      <td>2</td>\n",
       "      <td>6-cylinder(V6)</td>\n",
       "      <td>1</td>\n",
       "      <td>1</td>\n",
       "      <td>white</td>\n",
       "      <td>1980</td>\n",
       "      <td>26015000</td>\n",
       "      <td>Man</td>\n",
       "      <td>...</td>\n",
       "      <td>17.074184</td>\n",
       "      <td>40</td>\n",
       "      <td>54</td>\n",
       "      <td>0</td>\n",
       "      <td>0</td>\n",
       "      <td>0</td>\n",
       "      <td>1</td>\n",
       "      <td>1</td>\n",
       "      <td>0</td>\n",
       "      <td>1</td>\n",
       "    </tr>\n",
       "  </tbody>\n",
       "</table>\n",
       "<p>73 rows × 21 columns</p>\n",
       "</div>"
      ],
      "text/plain": [
       "      odometer location isimported          engine transmission fuel  paint  \\\n",
       "id                                                                            \n",
       "1           10    Lagos          0  4-cylinder(I4)            0    0  black   \n",
       "9        27429    Lagos          1  6-cylinder(I6)            0    0   blue   \n",
       "49       32646    Lagos          1  6-cylinder(I6)            0    0  white   \n",
       "75       23568    Lagos          1  4-cylinder(I4)            0    0  black   \n",
       "90       77805    Lagos          1  4-cylinder(I4)            0    0  black   \n",
       "...        ...      ...        ...             ...          ...  ...    ...   \n",
       "945      56770    Lagos          1  6-cylinder(I6)            0    0  white   \n",
       "964      25141    Lagos          1  4-cylinder(I4)            0    0   blue   \n",
       "989         69    Lagos          0  4-cylinder(I4)            0    0   grey   \n",
       "995      52485    Lagos          1  4-cylinder(I4)            0    0  black   \n",
       "1009    809456    Lagos          2  6-cylinder(V6)            1    1  white   \n",
       "\n",
       "      year    target          maker  ...       logy  year_diff  rank  \\\n",
       "id                                   ...                               \n",
       "1     2019  33015000         Toyota  ...  17.312473          1    41   \n",
       "9     2018  23115000          Lexus  ...  16.955992          2    61   \n",
       "49    2014  24015000      LandRover  ...  16.994189          6    57   \n",
       "75    2018  48015000          Lexus  ...  17.687024          2    25   \n",
       "90    2016  29015000      LandRover  ...  17.183323          4    47   \n",
       "...    ...       ...            ...  ...        ...        ...   ...   \n",
       "945   2018  49515000  Mercedes-Benz  ...  17.717786          2    23   \n",
       "964   2018  50015000          Lexus  ...  17.727834          2    20   \n",
       "989   2020  47015000          Lexus  ...  17.665977          0    27   \n",
       "995   2014  23015000      LandRover  ...  16.951657          6    64   \n",
       "1009  1980  26015000            Man  ...  17.074184         40    54   \n",
       "\n",
       "      low_distance  pop_maker  less3y  pop_color  loc_lagos  thisyear  over20m  \n",
       "id                                                                              \n",
       "1                1          1       1          1          1         0        1  \n",
       "9                0          1       1          1          1         0        1  \n",
       "49               0          1       0          1          1         0        1  \n",
       "75               0          1       1          1          1         0        1  \n",
       "90               0          1       0          1          1         0        1  \n",
       "...            ...        ...     ...        ...        ...       ...      ...  \n",
       "945              0          1       1          1          1         0        1  \n",
       "964              0          1       1          1          1         0        1  \n",
       "989              1          1       1          0          1         1        1  \n",
       "995              0          1       0          1          1         0        1  \n",
       "1009             0          0       0          1          1         0        1  \n",
       "\n",
       "[73 rows x 21 columns]"
      ]
     },
     "execution_count": 135,
     "metadata": {},
     "output_type": "execute_result"
    }
   ],
   "source": [
    "train[train['over20m'] == 1]"
   ]
  },
  {
   "cell_type": "code",
   "execution_count": 180,
   "metadata": {
    "ExecuteTime": {
     "end_time": "2022-06-12T07:57:31.868827Z",
     "start_time": "2022-06-12T07:57:31.857622Z"
    }
   },
   "outputs": [],
   "source": [
    "maker_rank = train.groupby('maker')['target'].median().to_frame()\n",
    "maker_rank['rank'] = maker_rank['target'].rank(ascending = False)"
   ]
  },
  {
   "cell_type": "code",
   "execution_count": 182,
   "metadata": {
    "ExecuteTime": {
     "end_time": "2022-06-12T07:58:28.915073Z",
     "start_time": "2022-06-12T07:58:28.894238Z"
    }
   },
   "outputs": [
    {
     "data": {
      "text/html": [
       "<div>\n",
       "<style scoped>\n",
       "    .dataframe tbody tr th:only-of-type {\n",
       "        vertical-align: middle;\n",
       "    }\n",
       "\n",
       "    .dataframe tbody tr th {\n",
       "        vertical-align: top;\n",
       "    }\n",
       "\n",
       "    .dataframe thead th {\n",
       "        text-align: right;\n",
       "    }\n",
       "</style>\n",
       "<table border=\"1\" class=\"dataframe\">\n",
       "  <thead>\n",
       "    <tr style=\"text-align: right;\">\n",
       "      <th></th>\n",
       "      <th>target</th>\n",
       "      <th>rank</th>\n",
       "    </tr>\n",
       "    <tr>\n",
       "      <th>maker</th>\n",
       "      <th></th>\n",
       "      <th></th>\n",
       "    </tr>\n",
       "  </thead>\n",
       "  <tbody>\n",
       "    <tr>\n",
       "      <th>Rolls-Royce</th>\n",
       "      <td>150015008</td>\n",
       "      <td>1.0</td>\n",
       "    </tr>\n",
       "    <tr>\n",
       "      <th>Bentley</th>\n",
       "      <td>28015000</td>\n",
       "      <td>2.0</td>\n",
       "    </tr>\n",
       "    <tr>\n",
       "      <th>LandRover</th>\n",
       "      <td>24015000</td>\n",
       "      <td>3.0</td>\n",
       "    </tr>\n",
       "    <tr>\n",
       "      <th>Porsche</th>\n",
       "      <td>12015000</td>\n",
       "      <td>4.5</td>\n",
       "    </tr>\n",
       "    <tr>\n",
       "      <th>Man</th>\n",
       "      <td>12015000</td>\n",
       "      <td>4.5</td>\n",
       "    </tr>\n",
       "    <tr>\n",
       "      <th>Iveco</th>\n",
       "      <td>10015000</td>\n",
       "      <td>6.0</td>\n",
       "    </tr>\n",
       "    <tr>\n",
       "      <th>Mercedes-Benz</th>\n",
       "      <td>9915000</td>\n",
       "      <td>7.0</td>\n",
       "    </tr>\n",
       "    <tr>\n",
       "      <th>JMC</th>\n",
       "      <td>9365000</td>\n",
       "      <td>8.0</td>\n",
       "    </tr>\n",
       "    <tr>\n",
       "      <th>Scania</th>\n",
       "      <td>9215000</td>\n",
       "      <td>9.0</td>\n",
       "    </tr>\n",
       "    <tr>\n",
       "      <th>ALPINA</th>\n",
       "      <td>9065000</td>\n",
       "      <td>10.0</td>\n",
       "    </tr>\n",
       "    <tr>\n",
       "      <th>Mack</th>\n",
       "      <td>8515000</td>\n",
       "      <td>11.0</td>\n",
       "    </tr>\n",
       "    <tr>\n",
       "      <th>Chevrolet</th>\n",
       "      <td>7715000</td>\n",
       "      <td>12.0</td>\n",
       "    </tr>\n",
       "    <tr>\n",
       "      <th>Infiniti</th>\n",
       "      <td>6840000</td>\n",
       "      <td>13.0</td>\n",
       "    </tr>\n",
       "    <tr>\n",
       "      <th>BMW</th>\n",
       "      <td>6822500</td>\n",
       "      <td>14.0</td>\n",
       "    </tr>\n",
       "    <tr>\n",
       "      <th>MAN-VOLKSWAGEN</th>\n",
       "      <td>6340000</td>\n",
       "      <td>15.0</td>\n",
       "    </tr>\n",
       "    <tr>\n",
       "      <th>Lexus</th>\n",
       "      <td>6152500</td>\n",
       "      <td>16.0</td>\n",
       "    </tr>\n",
       "    <tr>\n",
       "      <th>IVECO</th>\n",
       "      <td>6015000</td>\n",
       "      <td>17.0</td>\n",
       "    </tr>\n",
       "    <tr>\n",
       "      <th>DAF</th>\n",
       "      <td>5765000</td>\n",
       "      <td>18.0</td>\n",
       "    </tr>\n",
       "    <tr>\n",
       "      <th>MINI</th>\n",
       "      <td>5540000</td>\n",
       "      <td>19.0</td>\n",
       "    </tr>\n",
       "    <tr>\n",
       "      <th>GMC</th>\n",
       "      <td>5515000</td>\n",
       "      <td>20.0</td>\n",
       "    </tr>\n",
       "    <tr>\n",
       "      <th>Ford</th>\n",
       "      <td>4597500</td>\n",
       "      <td>21.0</td>\n",
       "    </tr>\n",
       "    <tr>\n",
       "      <th>Lincoln</th>\n",
       "      <td>4415000</td>\n",
       "      <td>22.0</td>\n",
       "    </tr>\n",
       "    <tr>\n",
       "      <th>Isuzu</th>\n",
       "      <td>4015000</td>\n",
       "      <td>23.0</td>\n",
       "    </tr>\n",
       "    <tr>\n",
       "      <th>Toyota</th>\n",
       "      <td>3975000</td>\n",
       "      <td>24.0</td>\n",
       "    </tr>\n",
       "    <tr>\n",
       "      <th>Dodge</th>\n",
       "      <td>3815000</td>\n",
       "      <td>25.0</td>\n",
       "    </tr>\n",
       "    <tr>\n",
       "      <th>Acura</th>\n",
       "      <td>3755000</td>\n",
       "      <td>26.0</td>\n",
       "    </tr>\n",
       "    <tr>\n",
       "      <th>Hyundai</th>\n",
       "      <td>3447500</td>\n",
       "      <td>27.0</td>\n",
       "    </tr>\n",
       "    <tr>\n",
       "      <th>Mitsubishi</th>\n",
       "      <td>3415000</td>\n",
       "      <td>28.0</td>\n",
       "    </tr>\n",
       "    <tr>\n",
       "      <th>IVM</th>\n",
       "      <td>2890000</td>\n",
       "      <td>29.0</td>\n",
       "    </tr>\n",
       "    <tr>\n",
       "      <th>Pontiac</th>\n",
       "      <td>2665000</td>\n",
       "      <td>30.0</td>\n",
       "    </tr>\n",
       "    <tr>\n",
       "      <th>Volvo</th>\n",
       "      <td>2615000</td>\n",
       "      <td>31.0</td>\n",
       "    </tr>\n",
       "    <tr>\n",
       "      <th>Honda</th>\n",
       "      <td>2515000</td>\n",
       "      <td>32.5</td>\n",
       "    </tr>\n",
       "    <tr>\n",
       "      <th>Jeep</th>\n",
       "      <td>2515000</td>\n",
       "      <td>32.5</td>\n",
       "    </tr>\n",
       "    <tr>\n",
       "      <th>Jaguar</th>\n",
       "      <td>2325000</td>\n",
       "      <td>34.0</td>\n",
       "    </tr>\n",
       "    <tr>\n",
       "      <th>Volkswagen</th>\n",
       "      <td>2315000</td>\n",
       "      <td>35.0</td>\n",
       "    </tr>\n",
       "    <tr>\n",
       "      <th>Peugeot</th>\n",
       "      <td>2085000</td>\n",
       "      <td>36.0</td>\n",
       "    </tr>\n",
       "    <tr>\n",
       "      <th>Kia</th>\n",
       "      <td>2015000</td>\n",
       "      <td>37.0</td>\n",
       "    </tr>\n",
       "    <tr>\n",
       "      <th>Mazda</th>\n",
       "      <td>1715000</td>\n",
       "      <td>38.0</td>\n",
       "    </tr>\n",
       "    <tr>\n",
       "      <th>GAC</th>\n",
       "      <td>1465000</td>\n",
       "      <td>39.0</td>\n",
       "    </tr>\n",
       "    <tr>\n",
       "      <th>Nissan</th>\n",
       "      <td>1365000</td>\n",
       "      <td>40.0</td>\n",
       "    </tr>\n",
       "    <tr>\n",
       "      <th>Audi</th>\n",
       "      <td>1215000</td>\n",
       "      <td>41.0</td>\n",
       "    </tr>\n",
       "  </tbody>\n",
       "</table>\n",
       "</div>"
      ],
      "text/plain": [
       "                   target  rank\n",
       "maker                          \n",
       "Rolls-Royce     150015008   1.0\n",
       "Bentley          28015000   2.0\n",
       "LandRover        24015000   3.0\n",
       "Porsche          12015000   4.5\n",
       "Man              12015000   4.5\n",
       "Iveco            10015000   6.0\n",
       "Mercedes-Benz     9915000   7.0\n",
       "JMC               9365000   8.0\n",
       "Scania            9215000   9.0\n",
       "ALPINA            9065000  10.0\n",
       "Mack              8515000  11.0\n",
       "Chevrolet         7715000  12.0\n",
       "Infiniti          6840000  13.0\n",
       "BMW               6822500  14.0\n",
       "MAN-VOLKSWAGEN    6340000  15.0\n",
       "Lexus             6152500  16.0\n",
       "IVECO             6015000  17.0\n",
       "DAF               5765000  18.0\n",
       "MINI              5540000  19.0\n",
       "GMC               5515000  20.0\n",
       "Ford              4597500  21.0\n",
       "Lincoln           4415000  22.0\n",
       "Isuzu             4015000  23.0\n",
       "Toyota            3975000  24.0\n",
       "Dodge             3815000  25.0\n",
       "Acura             3755000  26.0\n",
       "Hyundai           3447500  27.0\n",
       "Mitsubishi        3415000  28.0\n",
       "IVM               2890000  29.0\n",
       "Pontiac           2665000  30.0\n",
       "Volvo             2615000  31.0\n",
       "Honda             2515000  32.5\n",
       "Jeep              2515000  32.5\n",
       "Jaguar            2325000  34.0\n",
       "Volkswagen        2315000  35.0\n",
       "Peugeot           2085000  36.0\n",
       "Kia               2015000  37.0\n",
       "Mazda             1715000  38.0\n",
       "GAC               1465000  39.0\n",
       "Nissan            1365000  40.0\n",
       "Audi              1215000  41.0"
      ]
     },
     "execution_count": 182,
     "metadata": {},
     "output_type": "execute_result"
    }
   ],
   "source": [
    "maker_rank.sort_values(by = 'rank')"
   ]
  },
  {
   "cell_type": "code",
   "execution_count": 183,
   "metadata": {
    "ExecuteTime": {
     "end_time": "2022-06-12T08:00:00.918637Z",
     "start_time": "2022-06-12T08:00:00.907414Z"
    }
   },
   "outputs": [
    {
     "data": {
      "text/plain": [
       "{'target': {'ALPINA': 9065000,\n",
       "  'Acura': 3755000,\n",
       "  'Audi': 1215000,\n",
       "  'BMW': 6822500,\n",
       "  'Bentley': 28015000,\n",
       "  'Chevrolet': 7715000,\n",
       "  'DAF': 5765000,\n",
       "  'Dodge': 3815000,\n",
       "  'Ford': 4597500,\n",
       "  'GAC': 1465000,\n",
       "  'GMC': 5515000,\n",
       "  'Honda': 2515000,\n",
       "  'Hyundai': 3447500,\n",
       "  'IVECO': 6015000,\n",
       "  'IVM': 2890000,\n",
       "  'Infiniti': 6840000,\n",
       "  'Isuzu': 4015000,\n",
       "  'Iveco': 10015000,\n",
       "  'JMC': 9365000,\n",
       "  'Jaguar': 2325000,\n",
       "  'Jeep': 2515000,\n",
       "  'Kia': 2015000,\n",
       "  'LandRover': 24015000,\n",
       "  'Lexus': 6152500,\n",
       "  'Lincoln': 4415000,\n",
       "  'MAN-VOLKSWAGEN': 6340000,\n",
       "  'MINI': 5540000,\n",
       "  'Mack': 8515000,\n",
       "  'Man': 12015000,\n",
       "  'Mazda': 1715000,\n",
       "  'Mercedes-Benz': 9915000,\n",
       "  'Mitsubishi': 3415000,\n",
       "  'Nissan': 1365000,\n",
       "  'Peugeot': 2085000,\n",
       "  'Pontiac': 2665000,\n",
       "  'Porsche': 12015000,\n",
       "  'Rolls-Royce': 150015008,\n",
       "  'Scania': 9215000,\n",
       "  'Toyota': 3975000,\n",
       "  'Volkswagen': 2315000,\n",
       "  'Volvo': 2615000},\n",
       " 'rank': {'ALPINA': 10.0,\n",
       "  'Acura': 26.0,\n",
       "  'Audi': 41.0,\n",
       "  'BMW': 14.0,\n",
       "  'Bentley': 2.0,\n",
       "  'Chevrolet': 12.0,\n",
       "  'DAF': 18.0,\n",
       "  'Dodge': 25.0,\n",
       "  'Ford': 21.0,\n",
       "  'GAC': 39.0,\n",
       "  'GMC': 20.0,\n",
       "  'Honda': 32.5,\n",
       "  'Hyundai': 27.0,\n",
       "  'IVECO': 17.0,\n",
       "  'IVM': 29.0,\n",
       "  'Infiniti': 13.0,\n",
       "  'Isuzu': 23.0,\n",
       "  'Iveco': 6.0,\n",
       "  'JMC': 8.0,\n",
       "  'Jaguar': 34.0,\n",
       "  'Jeep': 32.5,\n",
       "  'Kia': 37.0,\n",
       "  'LandRover': 3.0,\n",
       "  'Lexus': 16.0,\n",
       "  'Lincoln': 22.0,\n",
       "  'MAN-VOLKSWAGEN': 15.0,\n",
       "  'MINI': 19.0,\n",
       "  'Mack': 11.0,\n",
       "  'Man': 4.5,\n",
       "  'Mazda': 38.0,\n",
       "  'Mercedes-Benz': 7.0,\n",
       "  'Mitsubishi': 28.0,\n",
       "  'Nissan': 40.0,\n",
       "  'Peugeot': 36.0,\n",
       "  'Pontiac': 30.0,\n",
       "  'Porsche': 4.5,\n",
       "  'Rolls-Royce': 1.0,\n",
       "  'Scania': 9.0,\n",
       "  'Toyota': 24.0,\n",
       "  'Volkswagen': 35.0,\n",
       "  'Volvo': 31.0}}"
      ]
     },
     "execution_count": 183,
     "metadata": {},
     "output_type": "execute_result"
    }
   ],
   "source": [
    "maker_rank.to_dict()"
   ]
  }
 ],
 "metadata": {
  "kernelspec": {
   "display_name": "Python 3",
   "language": "python",
   "name": "python3"
  },
  "language_info": {
   "codemirror_mode": {
    "name": "ipython",
    "version": 3
   },
   "file_extension": ".py",
   "mimetype": "text/x-python",
   "name": "python",
   "nbconvert_exporter": "python",
   "pygments_lexer": "ipython3",
   "version": "3.8.5"
  },
  "toc": {
   "base_numbering": 1,
   "nav_menu": {},
   "number_sections": true,
   "sideBar": true,
   "skip_h1_title": false,
   "title_cell": "Table of Contents",
   "title_sidebar": "Contents",
   "toc_cell": false,
   "toc_position": {},
   "toc_section_display": true,
   "toc_window_display": false
  }
 },
 "nbformat": 4,
 "nbformat_minor": 4
}
