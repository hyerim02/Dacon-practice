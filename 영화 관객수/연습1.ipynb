{
 "cells": [
  {
   "cell_type": "markdown",
   "metadata": {},
   "source": [
    "# 영화 관객수 예측 모델 개발  "
   ]
  },
  {
   "cell_type": "markdown",
   "metadata": {},
   "source": [
    "감독,이름,상영등급.스태프 수 등의 정보로 영화 관객 수를 예측하는 모델을 만들어 주세요!"
   ]
  },
  {
   "cell_type": "markdown",
   "metadata": {},
   "source": [
    "**변수**\n",
    "\n",
    "- title : 영화의 제목  \n",
    "- distributor : 배급사  \n",
    "- genre : 장르  \n",
    "- release_time : 개봉일  \n",
    "- time : 상영시간(분)  \n",
    "- screening_rat : 상영등급  \n",
    "- director : 감독이름  \n",
    "- dir_prev_bfnum : 해당 감독이 이 영화를 만들기 전 제작에 참여한 영화에서의 평균 관객수(단 관객수가 알려지지 않은 영화 제외)  \n",
    "- dir_prev_num : 해당 감독이 이 영화를 만들기 전 제작에 참여한 영화의 개수(단 관객수가 알려지지 않은 영화 제외)  \n",
    "- num_staff : 스텝수  \n",
    "- num_actor : 주연배우수  \n",
    "- box_off_num : 관객수"
   ]
  },
  {
   "cell_type": "code",
   "execution_count": 1,
   "metadata": {
    "ExecuteTime": {
     "end_time": "2022-06-28T12:49:57.817432Z",
     "start_time": "2022-06-28T12:49:55.049813Z"
    }
   },
   "outputs": [],
   "source": [
    "import pandas as pd\n",
    "import numpy as np\n",
    "import matplotlib.pyplot as plt\n",
    "import seaborn as sns\n",
    "import lightgbm as lgb\n",
    "from sklearn import preprocessing \n",
    "from sklearn.model_selection import KFold"
   ]
  },
  {
   "cell_type": "code",
   "execution_count": 2,
   "metadata": {
    "ExecuteTime": {
     "end_time": "2022-06-28T12:49:57.847670Z",
     "start_time": "2022-06-28T12:49:57.819270Z"
    }
   },
   "outputs": [],
   "source": [
    "train=pd.read_csv(\"C:/Users/phl02/Desktop/P/Dacon-practice/영화 관객수/data/movies_train.csv\")\n",
    "test=pd.read_csv(\"C:/Users/phl02/Desktop/P/Dacon-practice/영화 관객수/data/movies_test.csv\")\n",
    "submission=pd.read_csv('C:/Users/phl02/Desktop/P/Dacon-practice/영화 관객수/data/submission.csv')"
   ]
  },
  {
   "cell_type": "markdown",
   "metadata": {
    "ExecuteTime": {
     "end_time": "2022-06-28T09:27:08.509568Z",
     "start_time": "2022-06-28T09:27:03.358271Z"
    }
   },
   "source": [
    "# EDA"
   ]
  },
  {
   "cell_type": "markdown",
   "metadata": {},
   "source": [
    "## Data"
   ]
  },
  {
   "cell_type": "code",
   "execution_count": 3,
   "metadata": {
    "ExecuteTime": {
     "end_time": "2022-06-28T12:49:57.878297Z",
     "start_time": "2022-06-28T12:49:57.849391Z"
    }
   },
   "outputs": [
    {
     "data": {
      "text/html": [
       "<div>\n",
       "<style scoped>\n",
       "    .dataframe tbody tr th:only-of-type {\n",
       "        vertical-align: middle;\n",
       "    }\n",
       "\n",
       "    .dataframe tbody tr th {\n",
       "        vertical-align: top;\n",
       "    }\n",
       "\n",
       "    .dataframe thead th {\n",
       "        text-align: right;\n",
       "    }\n",
       "</style>\n",
       "<table border=\"1\" class=\"dataframe\">\n",
       "  <thead>\n",
       "    <tr style=\"text-align: right;\">\n",
       "      <th></th>\n",
       "      <th>title</th>\n",
       "      <th>distributor</th>\n",
       "      <th>genre</th>\n",
       "      <th>release_time</th>\n",
       "      <th>time</th>\n",
       "      <th>screening_rat</th>\n",
       "      <th>director</th>\n",
       "      <th>dir_prev_bfnum</th>\n",
       "      <th>dir_prev_num</th>\n",
       "      <th>num_staff</th>\n",
       "      <th>num_actor</th>\n",
       "      <th>box_off_num</th>\n",
       "    </tr>\n",
       "  </thead>\n",
       "  <tbody>\n",
       "    <tr>\n",
       "      <th>0</th>\n",
       "      <td>개들의 전쟁</td>\n",
       "      <td>롯데엔터테인먼트</td>\n",
       "      <td>액션</td>\n",
       "      <td>2012-11-22</td>\n",
       "      <td>96</td>\n",
       "      <td>청소년 관람불가</td>\n",
       "      <td>조병옥</td>\n",
       "      <td>NaN</td>\n",
       "      <td>0</td>\n",
       "      <td>91</td>\n",
       "      <td>2</td>\n",
       "      <td>23398</td>\n",
       "    </tr>\n",
       "    <tr>\n",
       "      <th>1</th>\n",
       "      <td>내부자들</td>\n",
       "      <td>(주)쇼박스</td>\n",
       "      <td>느와르</td>\n",
       "      <td>2015-11-19</td>\n",
       "      <td>130</td>\n",
       "      <td>청소년 관람불가</td>\n",
       "      <td>우민호</td>\n",
       "      <td>1161602.50</td>\n",
       "      <td>2</td>\n",
       "      <td>387</td>\n",
       "      <td>3</td>\n",
       "      <td>7072501</td>\n",
       "    </tr>\n",
       "    <tr>\n",
       "      <th>2</th>\n",
       "      <td>은밀하게 위대하게</td>\n",
       "      <td>(주)쇼박스</td>\n",
       "      <td>액션</td>\n",
       "      <td>2013-06-05</td>\n",
       "      <td>123</td>\n",
       "      <td>15세 관람가</td>\n",
       "      <td>장철수</td>\n",
       "      <td>220775.25</td>\n",
       "      <td>4</td>\n",
       "      <td>343</td>\n",
       "      <td>4</td>\n",
       "      <td>6959083</td>\n",
       "    </tr>\n",
       "    <tr>\n",
       "      <th>3</th>\n",
       "      <td>나는 공무원이다</td>\n",
       "      <td>(주)NEW</td>\n",
       "      <td>코미디</td>\n",
       "      <td>2012-07-12</td>\n",
       "      <td>101</td>\n",
       "      <td>전체 관람가</td>\n",
       "      <td>구자홍</td>\n",
       "      <td>23894.00</td>\n",
       "      <td>2</td>\n",
       "      <td>20</td>\n",
       "      <td>6</td>\n",
       "      <td>217866</td>\n",
       "    </tr>\n",
       "    <tr>\n",
       "      <th>4</th>\n",
       "      <td>불량남녀</td>\n",
       "      <td>쇼박스(주)미디어플렉스</td>\n",
       "      <td>코미디</td>\n",
       "      <td>2010-11-04</td>\n",
       "      <td>108</td>\n",
       "      <td>15세 관람가</td>\n",
       "      <td>신근호</td>\n",
       "      <td>1.00</td>\n",
       "      <td>1</td>\n",
       "      <td>251</td>\n",
       "      <td>2</td>\n",
       "      <td>483387</td>\n",
       "    </tr>\n",
       "  </tbody>\n",
       "</table>\n",
       "</div>"
      ],
      "text/plain": [
       "       title   distributor genre release_time  time screening_rat director  \\\n",
       "0     개들의 전쟁      롯데엔터테인먼트    액션   2012-11-22    96      청소년 관람불가      조병옥   \n",
       "1       내부자들        (주)쇼박스   느와르   2015-11-19   130      청소년 관람불가      우민호   \n",
       "2  은밀하게 위대하게        (주)쇼박스    액션   2013-06-05   123       15세 관람가      장철수   \n",
       "3   나는 공무원이다        (주)NEW   코미디   2012-07-12   101        전체 관람가      구자홍   \n",
       "4       불량남녀  쇼박스(주)미디어플렉스   코미디   2010-11-04   108       15세 관람가      신근호   \n",
       "\n",
       "   dir_prev_bfnum  dir_prev_num  num_staff  num_actor  box_off_num  \n",
       "0             NaN             0         91          2        23398  \n",
       "1      1161602.50             2        387          3      7072501  \n",
       "2       220775.25             4        343          4      6959083  \n",
       "3        23894.00             2         20          6       217866  \n",
       "4            1.00             1        251          2       483387  "
      ]
     },
     "execution_count": 3,
     "metadata": {},
     "output_type": "execute_result"
    }
   ],
   "source": [
    "train.head()"
   ]
  },
  {
   "cell_type": "code",
   "execution_count": 4,
   "metadata": {
    "ExecuteTime": {
     "end_time": "2022-06-28T12:49:57.893203Z",
     "start_time": "2022-06-28T12:49:57.880239Z"
    }
   },
   "outputs": [
    {
     "data": {
      "text/plain": [
       "(600, 12)"
      ]
     },
     "execution_count": 4,
     "metadata": {},
     "output_type": "execute_result"
    }
   ],
   "source": [
    "train.shape"
   ]
  },
  {
   "cell_type": "code",
   "execution_count": 5,
   "metadata": {
    "ExecuteTime": {
     "end_time": "2022-06-28T12:49:57.908205Z",
     "start_time": "2022-06-28T12:49:57.894204Z"
    }
   },
   "outputs": [
    {
     "data": {
      "text/plain": [
       "(243, 11)"
      ]
     },
     "execution_count": 5,
     "metadata": {},
     "output_type": "execute_result"
    }
   ],
   "source": [
    "test.shape"
   ]
  },
  {
   "cell_type": "markdown",
   "metadata": {},
   "source": [
    "## 결측값&정보"
   ]
  },
  {
   "cell_type": "code",
   "execution_count": 6,
   "metadata": {
    "ExecuteTime": {
     "end_time": "2022-06-28T12:49:57.923126Z",
     "start_time": "2022-06-28T12:49:57.910160Z"
    }
   },
   "outputs": [
    {
     "name": "stdout",
     "output_type": "stream",
     "text": [
      "<class 'pandas.core.frame.DataFrame'>\n",
      "RangeIndex: 600 entries, 0 to 599\n",
      "Data columns (total 12 columns):\n",
      " #   Column          Non-Null Count  Dtype  \n",
      "---  ------          --------------  -----  \n",
      " 0   title           600 non-null    object \n",
      " 1   distributor     600 non-null    object \n",
      " 2   genre           600 non-null    object \n",
      " 3   release_time    600 non-null    object \n",
      " 4   time            600 non-null    int64  \n",
      " 5   screening_rat   600 non-null    object \n",
      " 6   director        600 non-null    object \n",
      " 7   dir_prev_bfnum  270 non-null    float64\n",
      " 8   dir_prev_num    600 non-null    int64  \n",
      " 9   num_staff       600 non-null    int64  \n",
      " 10  num_actor       600 non-null    int64  \n",
      " 11  box_off_num     600 non-null    int64  \n",
      "dtypes: float64(1), int64(5), object(6)\n",
      "memory usage: 56.4+ KB\n"
     ]
    }
   ],
   "source": [
    "train.info()"
   ]
  },
  {
   "cell_type": "code",
   "execution_count": 7,
   "metadata": {
    "ExecuteTime": {
     "end_time": "2022-06-28T12:49:57.938086Z",
     "start_time": "2022-06-28T12:49:57.925123Z"
    }
   },
   "outputs": [
    {
     "name": "stdout",
     "output_type": "stream",
     "text": [
      "<class 'pandas.core.frame.DataFrame'>\n",
      "RangeIndex: 243 entries, 0 to 242\n",
      "Data columns (total 11 columns):\n",
      " #   Column          Non-Null Count  Dtype  \n",
      "---  ------          --------------  -----  \n",
      " 0   title           243 non-null    object \n",
      " 1   distributor     243 non-null    object \n",
      " 2   genre           243 non-null    object \n",
      " 3   release_time    243 non-null    object \n",
      " 4   time            243 non-null    int64  \n",
      " 5   screening_rat   243 non-null    object \n",
      " 6   director        243 non-null    object \n",
      " 7   dir_prev_bfnum  107 non-null    float64\n",
      " 8   dir_prev_num    243 non-null    int64  \n",
      " 9   num_staff       243 non-null    int64  \n",
      " 10  num_actor       243 non-null    int64  \n",
      "dtypes: float64(1), int64(4), object(6)\n",
      "memory usage: 21.0+ KB\n"
     ]
    }
   ],
   "source": [
    "test.info()"
   ]
  },
  {
   "cell_type": "code",
   "execution_count": 8,
   "metadata": {
    "ExecuteTime": {
     "end_time": "2022-06-28T12:49:57.953039Z",
     "start_time": "2022-06-28T12:49:57.942075Z"
    }
   },
   "outputs": [
    {
     "data": {
      "text/plain": [
       "title               0\n",
       "distributor         0\n",
       "genre               0\n",
       "release_time        0\n",
       "time                0\n",
       "screening_rat       0\n",
       "director            0\n",
       "dir_prev_bfnum    330\n",
       "dir_prev_num        0\n",
       "num_staff           0\n",
       "num_actor           0\n",
       "box_off_num         0\n",
       "dtype: int64"
      ]
     },
     "execution_count": 8,
     "metadata": {},
     "output_type": "execute_result"
    }
   ],
   "source": [
    "train.isnull().sum()"
   ]
  },
  {
   "cell_type": "code",
   "execution_count": 9,
   "metadata": {
    "ExecuteTime": {
     "end_time": "2022-06-28T12:49:57.968384Z",
     "start_time": "2022-06-28T12:49:57.956316Z"
    }
   },
   "outputs": [
    {
     "data": {
      "text/plain": [
       "title               0\n",
       "distributor         0\n",
       "genre               0\n",
       "release_time        0\n",
       "time                0\n",
       "screening_rat       0\n",
       "director            0\n",
       "dir_prev_bfnum    136\n",
       "dir_prev_num        0\n",
       "num_staff           0\n",
       "num_actor           0\n",
       "dtype: int64"
      ]
     },
     "execution_count": 9,
     "metadata": {},
     "output_type": "execute_result"
    }
   ],
   "source": [
    "test.isnull().sum()"
   ]
  },
  {
   "cell_type": "markdown",
   "metadata": {},
   "source": [
    "## 기술통계량"
   ]
  },
  {
   "cell_type": "code",
   "execution_count": 10,
   "metadata": {
    "ExecuteTime": {
     "end_time": "2022-06-28T12:49:57.998232Z",
     "start_time": "2022-06-28T12:49:57.970278Z"
    }
   },
   "outputs": [
    {
     "data": {
      "text/html": [
       "<div>\n",
       "<style scoped>\n",
       "    .dataframe tbody tr th:only-of-type {\n",
       "        vertical-align: middle;\n",
       "    }\n",
       "\n",
       "    .dataframe tbody tr th {\n",
       "        vertical-align: top;\n",
       "    }\n",
       "\n",
       "    .dataframe thead th {\n",
       "        text-align: right;\n",
       "    }\n",
       "</style>\n",
       "<table border=\"1\" class=\"dataframe\">\n",
       "  <thead>\n",
       "    <tr style=\"text-align: right;\">\n",
       "      <th></th>\n",
       "      <th>time</th>\n",
       "      <th>dir_prev_bfnum</th>\n",
       "      <th>dir_prev_num</th>\n",
       "      <th>num_staff</th>\n",
       "      <th>num_actor</th>\n",
       "      <th>box_off_num</th>\n",
       "    </tr>\n",
       "  </thead>\n",
       "  <tbody>\n",
       "    <tr>\n",
       "      <th>count</th>\n",
       "      <td>600.000000</td>\n",
       "      <td>2.700000e+02</td>\n",
       "      <td>600.000000</td>\n",
       "      <td>600.000000</td>\n",
       "      <td>600.000000</td>\n",
       "      <td>6.000000e+02</td>\n",
       "    </tr>\n",
       "    <tr>\n",
       "      <th>mean</th>\n",
       "      <td>100.863333</td>\n",
       "      <td>1.050443e+06</td>\n",
       "      <td>0.876667</td>\n",
       "      <td>151.118333</td>\n",
       "      <td>3.706667</td>\n",
       "      <td>7.081818e+05</td>\n",
       "    </tr>\n",
       "    <tr>\n",
       "      <th>std</th>\n",
       "      <td>18.097528</td>\n",
       "      <td>1.791408e+06</td>\n",
       "      <td>1.183409</td>\n",
       "      <td>165.654671</td>\n",
       "      <td>2.446889</td>\n",
       "      <td>1.828006e+06</td>\n",
       "    </tr>\n",
       "    <tr>\n",
       "      <th>min</th>\n",
       "      <td>45.000000</td>\n",
       "      <td>1.000000e+00</td>\n",
       "      <td>0.000000</td>\n",
       "      <td>0.000000</td>\n",
       "      <td>0.000000</td>\n",
       "      <td>1.000000e+00</td>\n",
       "    </tr>\n",
       "    <tr>\n",
       "      <th>25%</th>\n",
       "      <td>89.000000</td>\n",
       "      <td>2.038000e+04</td>\n",
       "      <td>0.000000</td>\n",
       "      <td>17.000000</td>\n",
       "      <td>2.000000</td>\n",
       "      <td>1.297250e+03</td>\n",
       "    </tr>\n",
       "    <tr>\n",
       "      <th>50%</th>\n",
       "      <td>100.000000</td>\n",
       "      <td>4.784236e+05</td>\n",
       "      <td>0.000000</td>\n",
       "      <td>82.500000</td>\n",
       "      <td>3.000000</td>\n",
       "      <td>1.259100e+04</td>\n",
       "    </tr>\n",
       "    <tr>\n",
       "      <th>75%</th>\n",
       "      <td>114.000000</td>\n",
       "      <td>1.286569e+06</td>\n",
       "      <td>2.000000</td>\n",
       "      <td>264.000000</td>\n",
       "      <td>4.000000</td>\n",
       "      <td>4.798868e+05</td>\n",
       "    </tr>\n",
       "    <tr>\n",
       "      <th>max</th>\n",
       "      <td>180.000000</td>\n",
       "      <td>1.761531e+07</td>\n",
       "      <td>5.000000</td>\n",
       "      <td>869.000000</td>\n",
       "      <td>25.000000</td>\n",
       "      <td>1.426277e+07</td>\n",
       "    </tr>\n",
       "  </tbody>\n",
       "</table>\n",
       "</div>"
      ],
      "text/plain": [
       "             time  dir_prev_bfnum  dir_prev_num   num_staff   num_actor  \\\n",
       "count  600.000000    2.700000e+02    600.000000  600.000000  600.000000   \n",
       "mean   100.863333    1.050443e+06      0.876667  151.118333    3.706667   \n",
       "std     18.097528    1.791408e+06      1.183409  165.654671    2.446889   \n",
       "min     45.000000    1.000000e+00      0.000000    0.000000    0.000000   \n",
       "25%     89.000000    2.038000e+04      0.000000   17.000000    2.000000   \n",
       "50%    100.000000    4.784236e+05      0.000000   82.500000    3.000000   \n",
       "75%    114.000000    1.286569e+06      2.000000  264.000000    4.000000   \n",
       "max    180.000000    1.761531e+07      5.000000  869.000000   25.000000   \n",
       "\n",
       "        box_off_num  \n",
       "count  6.000000e+02  \n",
       "mean   7.081818e+05  \n",
       "std    1.828006e+06  \n",
       "min    1.000000e+00  \n",
       "25%    1.297250e+03  \n",
       "50%    1.259100e+04  \n",
       "75%    4.798868e+05  \n",
       "max    1.426277e+07  "
      ]
     },
     "execution_count": 10,
     "metadata": {},
     "output_type": "execute_result"
    }
   ],
   "source": [
    "train.describe()"
   ]
  },
  {
   "cell_type": "markdown",
   "metadata": {
    "ExecuteTime": {
     "end_time": "2022-06-28T09:49:36.875240Z",
     "start_time": "2022-06-28T09:49:36.832917Z"
    }
   },
   "source": [
    "## 장르별 관객수"
   ]
  },
  {
   "cell_type": "code",
   "execution_count": 11,
   "metadata": {
    "ExecuteTime": {
     "end_time": "2022-06-28T12:49:58.028151Z",
     "start_time": "2022-06-28T12:49:58.000226Z"
    }
   },
   "outputs": [
    {
     "data": {
      "text/html": [
       "<div>\n",
       "<style scoped>\n",
       "    .dataframe tbody tr th:only-of-type {\n",
       "        vertical-align: middle;\n",
       "    }\n",
       "\n",
       "    .dataframe tbody tr th {\n",
       "        vertical-align: top;\n",
       "    }\n",
       "\n",
       "    .dataframe thead th {\n",
       "        text-align: right;\n",
       "    }\n",
       "</style>\n",
       "<table border=\"1\" class=\"dataframe\">\n",
       "  <thead>\n",
       "    <tr style=\"text-align: right;\">\n",
       "      <th></th>\n",
       "      <th>box_off_num</th>\n",
       "    </tr>\n",
       "    <tr>\n",
       "      <th>genre</th>\n",
       "      <th></th>\n",
       "    </tr>\n",
       "  </thead>\n",
       "  <tbody>\n",
       "    <tr>\n",
       "      <th>뮤지컬</th>\n",
       "      <td>6.627000e+03</td>\n",
       "    </tr>\n",
       "    <tr>\n",
       "      <th>다큐멘터리</th>\n",
       "      <td>6.717226e+04</td>\n",
       "    </tr>\n",
       "    <tr>\n",
       "      <th>서스펜스</th>\n",
       "      <td>8.261100e+04</td>\n",
       "    </tr>\n",
       "    <tr>\n",
       "      <th>애니메이션</th>\n",
       "      <td>1.819267e+05</td>\n",
       "    </tr>\n",
       "    <tr>\n",
       "      <th>멜로/로맨스</th>\n",
       "      <td>4.259680e+05</td>\n",
       "    </tr>\n",
       "    <tr>\n",
       "      <th>미스터리</th>\n",
       "      <td>5.275482e+05</td>\n",
       "    </tr>\n",
       "    <tr>\n",
       "      <th>공포</th>\n",
       "      <td>5.908325e+05</td>\n",
       "    </tr>\n",
       "    <tr>\n",
       "      <th>드라마</th>\n",
       "      <td>6.256898e+05</td>\n",
       "    </tr>\n",
       "    <tr>\n",
       "      <th>코미디</th>\n",
       "      <td>1.193914e+06</td>\n",
       "    </tr>\n",
       "    <tr>\n",
       "      <th>SF</th>\n",
       "      <td>1.788346e+06</td>\n",
       "    </tr>\n",
       "    <tr>\n",
       "      <th>액션</th>\n",
       "      <td>2.203974e+06</td>\n",
       "    </tr>\n",
       "    <tr>\n",
       "      <th>느와르</th>\n",
       "      <td>2.263695e+06</td>\n",
       "    </tr>\n",
       "  </tbody>\n",
       "</table>\n",
       "</div>"
      ],
      "text/plain": [
       "         box_off_num\n",
       "genre               \n",
       "뮤지컬     6.627000e+03\n",
       "다큐멘터리   6.717226e+04\n",
       "서스펜스    8.261100e+04\n",
       "애니메이션   1.819267e+05\n",
       "멜로/로맨스  4.259680e+05\n",
       "미스터리    5.275482e+05\n",
       "공포      5.908325e+05\n",
       "드라마     6.256898e+05\n",
       "코미디     1.193914e+06\n",
       "SF      1.788346e+06\n",
       "액션      2.203974e+06\n",
       "느와르     2.263695e+06"
      ]
     },
     "execution_count": 11,
     "metadata": {},
     "output_type": "execute_result"
    }
   ],
   "source": [
    "train[['genre','box_off_num']].groupby('genre').mean().sort_values('box_off_num')"
   ]
  },
  {
   "cell_type": "markdown",
   "metadata": {},
   "source": [
    "## 상관계수"
   ]
  },
  {
   "cell_type": "code",
   "execution_count": 12,
   "metadata": {
    "ExecuteTime": {
     "end_time": "2022-06-28T12:49:58.737400Z",
     "start_time": "2022-06-28T12:49:58.031145Z"
    }
   },
   "outputs": [
    {
     "data": {
      "text/plain": [
       "<AxesSubplot:>"
      ]
     },
     "execution_count": 12,
     "metadata": {},
     "output_type": "execute_result"
    },
    {
     "data": {
      "image/png": "[encoded data removed]",
      "text/plain": [
       "<Figure size 720x720 with 2 Axes>"
      ]
     },
     "metadata": {
      "needs_background": "light"
     },
     "output_type": "display_data"
    }
   ],
   "source": [
    "plt.figure(figsize=(10,10))\n",
    "sns.heatmap(train.corr(),annot=True)"
   ]
  },
  {
   "cell_type": "markdown",
   "metadata": {},
   "source": [
    "스태프 수가 많을수록 관객수가 많아지는 경향  \n",
    "시간이 길수록 관객수가 많아지는 경향  "
   ]
  },
  {
   "cell_type": "markdown",
   "metadata": {},
   "source": [
    "## 전처리"
   ]
  },
  {
   "cell_type": "markdown",
   "metadata": {},
   "source": [
    "해당 감독이 이 영화를 만들기 전 제작에 참여한 영화에서의 평균 관객수가 nan 결과가 나온 것 중에 감독이 이 영화를 만들기 전 제작에 참여한 영화의 개수, 즉 dir_prev_num를 보면 다 0임  \n",
    "dir_prev_bfnum에 0으로 채울 것임"
   ]
  },
  {
   "cell_type": "code",
   "execution_count": 13,
   "metadata": {
    "ExecuteTime": {
     "end_time": "2022-06-28T12:49:58.752095Z",
     "start_time": "2022-06-28T12:49:58.739613Z"
    }
   },
   "outputs": [
    {
     "data": {
      "text/plain": [
       "0"
      ]
     },
     "execution_count": 13,
     "metadata": {},
     "output_type": "execute_result"
    }
   ],
   "source": [
    "train[train['dir_prev_bfnum'].isna()]['dir_prev_num'].sum()"
   ]
  },
  {
   "cell_type": "code",
   "execution_count": 14,
   "metadata": {
    "ExecuteTime": {
     "end_time": "2022-06-28T12:49:58.782094Z",
     "start_time": "2022-06-28T12:49:58.761069Z"
    }
   },
   "outputs": [],
   "source": [
    "train['dir_prev_bfnum'].fillna(0,inplace=True)"
   ]
  },
  {
   "cell_type": "code",
   "execution_count": 15,
   "metadata": {
    "ExecuteTime": {
     "end_time": "2022-06-28T12:49:58.796811Z",
     "start_time": "2022-06-28T12:49:58.786532Z"
    }
   },
   "outputs": [
    {
     "data": {
      "text/plain": [
       "title             0\n",
       "distributor       0\n",
       "genre             0\n",
       "release_time      0\n",
       "time              0\n",
       "screening_rat     0\n",
       "director          0\n",
       "dir_prev_bfnum    0\n",
       "dir_prev_num      0\n",
       "num_staff         0\n",
       "num_actor         0\n",
       "box_off_num       0\n",
       "dtype: int64"
      ]
     },
     "execution_count": 15,
     "metadata": {},
     "output_type": "execute_result"
    }
   ],
   "source": [
    "train.isnull().sum()"
   ]
  },
  {
   "cell_type": "code",
   "execution_count": 16,
   "metadata": {
    "ExecuteTime": {
     "end_time": "2022-06-28T12:49:58.811769Z",
     "start_time": "2022-06-28T12:49:58.798806Z"
    }
   },
   "outputs": [],
   "source": [
    "test['dir_prev_bfnum'].fillna(0,inplace=True)"
   ]
  },
  {
   "cell_type": "code",
   "execution_count": 17,
   "metadata": {
    "ExecuteTime": {
     "end_time": "2022-06-28T12:49:58.827367Z",
     "start_time": "2022-06-28T12:49:58.812988Z"
    }
   },
   "outputs": [
    {
     "data": {
      "text/plain": [
       "title             0\n",
       "distributor       0\n",
       "genre             0\n",
       "release_time      0\n",
       "time              0\n",
       "screening_rat     0\n",
       "director          0\n",
       "dir_prev_bfnum    0\n",
       "dir_prev_num      0\n",
       "num_staff         0\n",
       "num_actor         0\n",
       "dtype: int64"
      ]
     },
     "execution_count": 17,
     "metadata": {},
     "output_type": "execute_result"
    }
   ],
   "source": [
    "test.isnull().sum()"
   ]
  },
  {
   "cell_type": "markdown",
   "metadata": {},
   "source": [
    "## 모델링"
   ]
  },
  {
   "cell_type": "markdown",
   "metadata": {},
   "source": [
    "다른 부스팅 모델에 비해 속도가 빠름  \n",
    "기존모델이 못 맞춘 문제에 가중치를 두어 지속적으로 학습을 이어나감"
   ]
  },
  {
   "cell_type": "code",
   "execution_count": 18,
   "metadata": {
    "ExecuteTime": {
     "end_time": "2022-06-28T12:49:58.841995Z",
     "start_time": "2022-06-28T12:49:58.828365Z"
    }
   },
   "outputs": [],
   "source": [
    "model=lgb.LGBMRegressor(random_state=777,n_estimators=1000)"
   ]
  },
  {
   "cell_type": "code",
   "execution_count": 19,
   "metadata": {
    "ExecuteTime": {
     "end_time": "2022-06-28T12:49:58.856987Z",
     "start_time": "2022-06-28T12:49:58.843991Z"
    }
   },
   "outputs": [],
   "source": [
    "features=['time','dir_prev_num','num_staff','num_actor']"
   ]
  },
  {
   "cell_type": "code",
   "execution_count": 20,
   "metadata": {
    "ExecuteTime": {
     "end_time": "2022-06-28T12:49:58.872001Z",
     "start_time": "2022-06-28T12:49:58.858982Z"
    }
   },
   "outputs": [],
   "source": [
    "target=['box_off_num']"
   ]
  },
  {
   "cell_type": "code",
   "execution_count": 21,
   "metadata": {
    "ExecuteTime": {
     "end_time": "2022-06-28T12:49:58.887051Z",
     "start_time": "2022-06-28T12:49:58.873996Z"
    }
   },
   "outputs": [],
   "source": [
    "x_train,x_test,y_train=train[features],test[features],train[target]"
   ]
  },
  {
   "cell_type": "markdown",
   "metadata": {},
   "source": [
    "- ligjtGBM(base model)  \n",
    "- k-fold lightGBM (k-fold model)  \n",
    "- feature engineering (fe)  \n",
    "- grid search (hyperparameter tuning)"
   ]
  },
  {
   "cell_type": "code",
   "execution_count": 22,
   "metadata": {
    "ExecuteTime": {
     "end_time": "2022-06-28T12:49:59.251380Z",
     "start_time": "2022-06-28T12:49:58.889525Z"
    }
   },
   "outputs": [
    {
     "data": {
      "text/plain": [
       "LGBMRegressor(n_estimators=1000, random_state=777)"
      ]
     },
     "execution_count": 22,
     "metadata": {},
     "output_type": "execute_result"
    }
   ],
   "source": [
    "model.fit(x_train,y_train)"
   ]
  },
  {
   "cell_type": "code",
   "execution_count": 23,
   "metadata": {
    "ExecuteTime": {
     "end_time": "2022-06-28T12:49:59.311567Z",
     "start_time": "2022-06-28T12:49:59.255509Z"
    }
   },
   "outputs": [],
   "source": [
    "singleLGBM=submission.copy()\n",
    "singleLGBM['box_off_num']=model.predict(x_test)\n",
    "singleLGBM.to_csv('singleLGBM.csv',index=False)"
   ]
  },
  {
   "cell_type": "markdown",
   "metadata": {},
   "source": [
    "관객수를 예측하는건데 음수가 있어서 잘못된 것을 바로 알 수 있음"
   ]
  },
  {
   "cell_type": "markdown",
   "metadata": {},
   "source": [
    "## k-fold 교차검증  \n",
    "과대적합 방지  "
   ]
  },
  {
   "cell_type": "code",
   "execution_count": 24,
   "metadata": {
    "ExecuteTime": {
     "end_time": "2022-06-28T12:49:59.326205Z",
     "start_time": "2022-06-28T12:49:59.314233Z"
    }
   },
   "outputs": [],
   "source": [
    "k_fold=KFold(n_splits=5,shuffle=True,random_state=777)"
   ]
  },
  {
   "cell_type": "code",
   "execution_count": 25,
   "metadata": {
    "ExecuteTime": {
     "end_time": "2022-06-28T12:49:59.341741Z",
     "start_time": "2022-06-28T12:49:59.328201Z"
    }
   },
   "outputs": [],
   "source": [
    "model=lgb.LGBMRegressor(random_state=777,n_estimators=1000)"
   ]
  },
  {
   "cell_type": "code",
   "execution_count": 26,
   "metadata": {
    "ExecuteTime": {
     "end_time": "2022-06-28T12:49:59.644327Z",
     "start_time": "2022-06-28T12:49:59.344187Z"
    }
   },
   "outputs": [
    {
     "name": "stderr",
     "output_type": "stream",
     "text": [
      "C:\\ProgramData\\Anaconda3\\lib\\site-packages\\lightgbm\\sklearn.py:726: UserWarning: 'early_stopping_rounds' argument is deprecated and will be removed in a future release of LightGBM. Pass 'early_stopping()' callback via 'callbacks' argument instead.\n",
      "  _log_warning(\"'early_stopping_rounds' argument is deprecated and will be removed in a future release of LightGBM. \"\n",
      "C:\\ProgramData\\Anaconda3\\lib\\site-packages\\lightgbm\\sklearn.py:736: UserWarning: 'verbose' argument is deprecated and will be removed in a future release of LightGBM. Pass 'log_evaluation()' callback via 'callbacks' argument instead.\n",
      "  _log_warning(\"'verbose' argument is deprecated and will be removed in a future release of LightGBM. \"\n"
     ]
    },
    {
     "name": "stdout",
     "output_type": "stream",
     "text": [
      "[100]\tvalid_0's l2: 2.70572e+12\n",
      "[100]\tvalid_0's l2: 3.90847e+12\n",
      "[100]\tvalid_0's l2: 3.50344e+12\n",
      "[100]\tvalid_0's l2: 1.45977e+12\n",
      "[100]\tvalid_0's l2: 1.77214e+12\n"
     ]
    }
   ],
   "source": [
    "models=[]\n",
    "for train_idx,val_idx in k_fold.split(x_train):\n",
    "    x_t=x_train.iloc[train_idx]\n",
    "    y_t=y_train.iloc[train_idx]\n",
    "    x_val=x_train.iloc[val_idx]\n",
    "    y_val=y_train.iloc[val_idx]\n",
    "    \n",
    "    models.append(model.fit(x_t,y_t,eval_set=(x_val,y_val),early_stopping_rounds=100,verbose=100))    "
   ]
  },
  {
   "cell_type": "markdown",
   "metadata": {},
   "source": [
    "validation set은 eval_set에 넣어주면 됨  \n",
    "계속 반복하다가 일정수준에 도달한 다음에도 계속 학습을 하면 과적합이 될 수 있어서 학습을 중단시켜야 할 필요가 있는데 그 중단시키는 역할은 early_stopping_rounds가 함.   \n",
    "100번의 과정에서 모델의 오차율이 범위 내에서 감소하지 않으면 스탑!  \n",
    "평가는 validation으로 함  \n",
    "verbose는 100번 마다 모델 값을 보여달라는 의미 "
   ]
  },
  {
   "cell_type": "code",
   "execution_count": 27,
   "metadata": {
    "ExecuteTime": {
     "end_time": "2022-06-28T12:49:59.674392Z",
     "start_time": "2022-06-28T12:49:59.645252Z"
    }
   },
   "outputs": [
    {
     "data": {
      "text/plain": [
       "5"
      ]
     },
     "execution_count": 27,
     "metadata": {},
     "output_type": "execute_result"
    }
   ],
   "source": [
    "preds=[]\n",
    "for model in models:\n",
    "    preds.append(model.predict(x_test))\n",
    "len(preds)"
   ]
  },
  {
   "cell_type": "code",
   "execution_count": 28,
   "metadata": {
    "ExecuteTime": {
     "end_time": "2022-06-28T12:49:59.689204Z",
     "start_time": "2022-06-28T12:49:59.676389Z"
    }
   },
   "outputs": [],
   "source": [
    "kfoldLGBM=submission.copy()\n",
    "kfoldLGBM['box_off_num']=np.mean(preds,axis=0)\n",
    "kfoldLGBM.to_csv('kfoldLGBM.csv',index=False)"
   ]
  },
  {
   "cell_type": "markdown",
   "metadata": {},
   "source": [
    "## feature engineering"
   ]
  },
  {
   "cell_type": "markdown",
   "metadata": {},
   "source": [
    "문자열로 되어 있어서 숫자로 변환"
   ]
  },
  {
   "cell_type": "code",
   "execution_count": 29,
   "metadata": {
    "ExecuteTime": {
     "end_time": "2022-06-28T12:49:59.704199Z",
     "start_time": "2022-06-28T12:49:59.691613Z"
    }
   },
   "outputs": [],
   "source": [
    "le=preprocessing.LabelEncoder()\n",
    "train['genre']=le.fit_transform(train['genre'])"
   ]
  },
  {
   "cell_type": "code",
   "execution_count": 30,
   "metadata": {
    "ExecuteTime": {
     "end_time": "2022-06-28T12:49:59.719106Z",
     "start_time": "2022-06-28T12:49:59.706143Z"
    }
   },
   "outputs": [],
   "source": [
    "test['genre']=le.transform(test['genre'])"
   ]
  },
  {
   "cell_type": "code",
   "execution_count": 31,
   "metadata": {
    "ExecuteTime": {
     "end_time": "2022-06-28T12:49:59.734758Z",
     "start_time": "2022-06-28T12:49:59.721103Z"
    }
   },
   "outputs": [
    {
     "data": {
      "text/plain": [
       "['time', 'dir_prev_num', 'num_staff', 'num_actor', 'dir_prev_bfnum', 'genre']"
      ]
     },
     "execution_count": 31,
     "metadata": {},
     "output_type": "execute_result"
    }
   ],
   "source": [
    "features.append('dir_prev_bfnum')\n",
    "features.append('genre')\n",
    "features"
   ]
  },
  {
   "cell_type": "code",
   "execution_count": 32,
   "metadata": {
    "ExecuteTime": {
     "end_time": "2022-06-28T12:50:25.090693Z",
     "start_time": "2022-06-28T12:50:25.075733Z"
    }
   },
   "outputs": [],
   "source": [
    "x_train,x_test,y_train=train[features],test[features],train[target]"
   ]
  },
  {
   "cell_type": "code",
   "execution_count": 33,
   "metadata": {
    "ExecuteTime": {
     "end_time": "2022-06-28T12:51:05.336300Z",
     "start_time": "2022-06-28T12:51:05.072573Z"
    }
   },
   "outputs": [
    {
     "name": "stdout",
     "output_type": "stream",
     "text": [
      "[100]\tvalid_0's l2: 2.62067e+12\n",
      "[100]\tvalid_0's l2: 4.39227e+12\n",
      "[100]\tvalid_0's l2: 3.29841e+12\n",
      "[100]\tvalid_0's l2: 1.56499e+12\n",
      "[100]\tvalid_0's l2: 1.60118e+12\n"
     ]
    }
   ],
   "source": [
    "models=[]\n",
    "for train_idx,val_idx in k_fold.split(x_train):\n",
    "    x_t=x_train.iloc[train_idx]\n",
    "    y_t=y_train.iloc[train_idx]\n",
    "    x_val=x_train.iloc[val_idx]\n",
    "    y_val=y_train.iloc[val_idx]\n",
    "    \n",
    "    models.append(model.fit(x_t,y_t,eval_set=(x_val,y_val),early_stopping_rounds=100,verbose=100))    "
   ]
  },
  {
   "cell_type": "code",
   "execution_count": 34,
   "metadata": {
    "ExecuteTime": {
     "end_time": "2022-06-28T12:51:07.079363Z",
     "start_time": "2022-06-28T12:51:07.047473Z"
    }
   },
   "outputs": [
    {
     "data": {
      "text/plain": [
       "5"
      ]
     },
     "execution_count": 34,
     "metadata": {},
     "output_type": "execute_result"
    }
   ],
   "source": [
    "preds=[]\n",
    "for model in models:\n",
    "    preds.append(model.predict(x_test))\n",
    "len(preds)"
   ]
  },
  {
   "cell_type": "code",
   "execution_count": 35,
   "metadata": {
    "ExecuteTime": {
     "end_time": "2022-06-28T12:53:29.664127Z",
     "start_time": "2022-06-28T12:53:29.652156Z"
    }
   },
   "outputs": [],
   "source": [
    "feLGBM=submission.copy()\n",
    "feLGBM['box_off_num']=np.mean(preds,axis=0)\n",
    "feLGBM.to_csv('feLGBM.csv',index=False)"
   ]
  },
  {
   "cell_type": "code",
   "execution_count": null,
   "metadata": {},
   "outputs": [],
   "source": []
  }
 ],
 "metadata": {
  "kernelspec": {
   "display_name": "Python 3",
   "language": "python",
   "name": "python3"
  },
  "language_info": {
   "codemirror_mode": {
    "name": "ipython",
    "version": 3
   },
   "file_extension": ".py",
   "mimetype": "text/x-python",
   "name": "python",
   "nbconvert_exporter": "python",
   "pygments_lexer": "ipython3",
   "version": "3.8.5"
  },
  "toc": {
   "base_numbering": 1,
   "nav_menu": {},
   "number_sections": true,
   "sideBar": true,
   "skip_h1_title": false,
   "title_cell": "Table of Contents",
   "title_sidebar": "Contents",
   "toc_cell": false,
   "toc_position": {},
   "toc_section_display": true,
   "toc_window_display": false
  }
 },
 "nbformat": 4,
 "nbformat_minor": 4
}
